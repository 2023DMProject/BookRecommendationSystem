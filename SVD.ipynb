{
 "cells": [
  {
   "cell_type": "code",
   "execution_count": 1,
   "id": "2e0132f6",
   "metadata": {},
   "outputs": [],
   "source": [
    "import pandas as pd\n",
    "import matplotlib.pyplot as plt\n",
    "\n",
    "import seaborn as sns\n",
    "import gc"
   ]
  },
  {
   "cell_type": "code",
   "execution_count": null,
   "id": "d3a7733c",
   "metadata": {},
   "outputs": [],
   "source": [
    "# filtered_ratings_df = pd.read_csv(\"Filtered_Ratings.csv\",dtype={\"ISBN\": str}, low_memory=False)\n",
    "# fr0_df = filtered_ratings_df[filtered_ratings_df['Book-Rating'] != 0]\n",
    "# fr0_df\n",
    "# fr0_df.to_csv(\"Filtered_Ratings_NoZero.csv\", index=False)"
   ]
  },
  {
   "cell_type": "markdown",
   "id": "8ea9a9b3",
   "metadata": {},
   "source": [
    "* Latent Factor Models (SVD : R = Q*Pt)\n",
    "* unrated books에 대해서는 0이 아닌 NaN으로 유지\n",
    "* Sparse SVD를 통해 누락된 값(NaN) 무시하고 데이터가 있는 값들만 사용하여 분해를 수행"
   ]
  },
  {
   "cell_type": "code",
   "execution_count": null,
   "id": "2bb076a5",
   "metadata": {
    "scrolled": true
   },
   "outputs": [],
   "source": [
    "# fr0_df\n",
    "# row_cnt = fr0_df[\"User-ID\"].count()\n",
    "# row_cnt\n",
    "# #R_matrix = fr0_df.pivot(index='ISBN', columns='User-ID', values='Book-Rating')"
   ]
  },
  {
   "cell_type": "code",
   "execution_count": null,
   "id": "aa30ac46",
   "metadata": {},
   "outputs": [],
   "source": [
    "# rating_nozero_df = pd.read_csv(\"Filtered_Ratings_NoZero.csv\")\n",
    "# R_matrix = rating_nozero_df.pivot(index='ISBN', columns='User-ID', values='Book-Rating')"
   ]
  },
  {
   "cell_type": "code",
   "execution_count": null,
   "id": "ec2c36f3",
   "metadata": {},
   "outputs": [],
   "source": [
    "# 고유한 user-id 개수\n",
    "# rating_nozero_df = pd.read_csv(\"Filtered_Ratings_NoZero.csv\")\n",
    "# userid_cnt = rating_nozero_df[\"User-ID\"].nunique()\n",
    "# isbn_cnt = rating_nozero_df[\"ISBN\"].nunique()\n",
    "# row_cnt = rating_nozero_df[\"User-ID\"].count()\n",
    "# print(\"unique User-ID : \", userid_cnt)\n",
    "# print(\"unique ISBN : \", isbn_cnt)\n",
    "# print(\"row count : \", row_cnt)"
   ]
  },
  {
   "cell_type": "code",
   "execution_count": null,
   "id": "c9dc3390",
   "metadata": {},
   "outputs": [],
   "source": [
    "# from pyspark.sql import SparkSession\n",
    "# from pyspark.sql.functions import col\n",
    "# from pyspark.mllib.linalg.distributed import RowMatrix\n",
    "\n",
    "# # spark 세션 시작\n",
    "# spark = SparkSession.builder.appName(\"ratingMatrix\").config(\"spark.sql.pivotMaxValues\", 10000).config(\"spark.driver.memory\", \"16g\").config(\"spark.executor.memory\", \"16g\").getOrCreate()\n",
    "# #csv 파일을 Spark DF로 로드\n",
    "# df = spark.read.csv(\"Filtered_Ratings_NoZero.csv\", header=True, inferSchema=True)\n",
    "\n",
    "# # 처음 10만개 데이터만 선택\n",
    "# limited_df = df.limit(10000)\n",
    "\n",
    "# #행렬 변환\n",
    "# R_matrix = limited_df.groupBy(\"ISBN\").pivot(\"User-ID\").sum(\"Book-Rating\")\n",
    "\n",
    "# #MLLib 사용 - 대규모 dataset이기 때문에 분산환경에서 SVD 진행해야함\n",
    "\n",
    "# #R.matrix -> RDD로 변환\n",
    "# rows = R_matrix.rdd.map(lambda row: Vectors.dense(row[1:]))\n",
    "\n",
    "# # 행렬 객체 생성\n",
    "# mat = RowMatrix(rows)\n",
    "\n",
    "# k = 50\n",
    "# # SVD 수행\n",
    "# svd = mat.computeSVD(k, computeU=True)\n",
    "# U = svd.U       # U 행렬\n",
    "# s = svd.s       # Sigma 행렬의 대각 원소\n",
    "# V = svd.V       # V 행렬"
   ]
  },
  {
   "cell_type": "code",
   "execution_count": 2,
   "id": "9abdd508",
   "metadata": {},
   "outputs": [
    {
     "name": "stdout",
     "output_type": "stream",
     "text": [
      "   User-ID        ISBN  Book-Rating\n",
      "0   276726  0155061224            5\n",
      "1   276729  052165615X            3\n",
      "2   276729  0521795028            6\n",
      "3   276744  038550120X            7\n",
      "4   276747  0060517794            9\n"
     ]
    }
   ],
   "source": [
    "df = pd.read_csv(\"Filtered_Ratings_NoZero.csv\")\n",
    "\n",
    "print(df.head())"
   ]
  },
  {
   "cell_type": "code",
   "execution_count": null,
   "id": "9394cd10",
   "metadata": {},
   "outputs": [],
   "source": []
  },
  {
   "cell_type": "code",
   "execution_count": 3,
   "id": "f366b3e6",
   "metadata": {},
   "outputs": [],
   "source": [
    "df_limited = df.head(80000)\n",
    "\n",
    "R_matrix = df_limited.pivot(index=\"ISBN\", columns=\"User-ID\", values=\"Book-Rating\").astype(\"float32\")\n",
    "#print(R_matrix.head())"
   ]
  },
  {
   "cell_type": "code",
   "execution_count": null,
   "id": "fb965989",
   "metadata": {},
   "outputs": [],
   "source": [
    "num_rows = R_matrix.shape[0]  # 행의 개수\n",
    "num_cols = R_matrix.shape[1]  # 열의 개수\n",
    "\n",
    "print(f\"행의 개수: {num_rows}\")\n",
    "print(f\"열의 개수: {num_cols}\")"
   ]
  },
  {
   "cell_type": "code",
   "execution_count": 4,
   "id": "97dae7b7",
   "metadata": {},
   "outputs": [],
   "source": [
    "from scipy.sparse import csc_matrix\n",
    "from scipy.sparse.linalg import svds"
   ]
  },
  {
   "cell_type": "code",
   "execution_count": 5,
   "id": "9e340c49",
   "metadata": {},
   "outputs": [
    {
     "ename": "MemoryError",
     "evalue": "Unable to allocate 2.47 GiB for an array with shape (661871280,) and data type float32",
     "output_type": "error",
     "traceback": [
      "\u001b[1;31m---------------------------------------------------------------------------\u001b[0m",
      "\u001b[1;31mMemoryError\u001b[0m                               Traceback (most recent call last)",
      "\u001b[1;32m~\\AppData\\Local\\Temp/ipykernel_43620/1494607329.py\u001b[0m in \u001b[0;36m<module>\u001b[1;34m\u001b[0m\n\u001b[0;32m      1\u001b[0m \u001b[1;31m# 행렬을 희소 행렬 형태로 변환\u001b[0m\u001b[1;33m\u001b[0m\u001b[1;33m\u001b[0m\u001b[1;33m\u001b[0m\u001b[0m\n\u001b[1;32m----> 2\u001b[1;33m \u001b[0mA\u001b[0m \u001b[1;33m=\u001b[0m \u001b[0mcsc_matrix\u001b[0m\u001b[1;33m(\u001b[0m\u001b[0mR_matrix\u001b[0m\u001b[1;33m.\u001b[0m\u001b[0mvalues\u001b[0m\u001b[1;33m)\u001b[0m\u001b[1;33m\u001b[0m\u001b[1;33m\u001b[0m\u001b[0m\n\u001b[0m\u001b[0;32m      3\u001b[0m \u001b[1;33m\u001b[0m\u001b[0m\n\u001b[0;32m      4\u001b[0m \u001b[1;31m# SVD 수행, k는 추출할 특성의 수\u001b[0m\u001b[1;33m\u001b[0m\u001b[1;33m\u001b[0m\u001b[1;33m\u001b[0m\u001b[0m\n\u001b[0;32m      5\u001b[0m \u001b[0mu\u001b[0m\u001b[1;33m,\u001b[0m \u001b[0ms\u001b[0m\u001b[1;33m,\u001b[0m \u001b[0mvt\u001b[0m \u001b[1;33m=\u001b[0m \u001b[0msvds\u001b[0m\u001b[1;33m(\u001b[0m\u001b[0mA\u001b[0m\u001b[1;33m,\u001b[0m \u001b[0mk\u001b[0m\u001b[1;33m=\u001b[0m\u001b[1;36m50\u001b[0m\u001b[1;33m)\u001b[0m\u001b[1;33m\u001b[0m\u001b[1;33m\u001b[0m\u001b[0m\n",
      "\u001b[1;32mc:\\users\\user\\appdata\\local\\programs\\python\\python37\\lib\\site-packages\\scipy\\sparse\\compressed.py\u001b[0m in \u001b[0;36m__init__\u001b[1;34m(self, arg1, shape, dtype, copy)\u001b[0m\n\u001b[0;32m     84\u001b[0m                                  \"\".format(self.format)) from e\n\u001b[0;32m     85\u001b[0m             \u001b[1;32mfrom\u001b[0m \u001b[1;33m.\u001b[0m\u001b[0mcoo\u001b[0m \u001b[1;32mimport\u001b[0m \u001b[0mcoo_matrix\u001b[0m\u001b[1;33m\u001b[0m\u001b[1;33m\u001b[0m\u001b[0m\n\u001b[1;32m---> 86\u001b[1;33m             \u001b[0mself\u001b[0m\u001b[1;33m.\u001b[0m\u001b[0m_set_self\u001b[0m\u001b[1;33m(\u001b[0m\u001b[0mself\u001b[0m\u001b[1;33m.\u001b[0m\u001b[0m__class__\u001b[0m\u001b[1;33m(\u001b[0m\u001b[0mcoo_matrix\u001b[0m\u001b[1;33m(\u001b[0m\u001b[0marg1\u001b[0m\u001b[1;33m,\u001b[0m \u001b[0mdtype\u001b[0m\u001b[1;33m=\u001b[0m\u001b[0mdtype\u001b[0m\u001b[1;33m)\u001b[0m\u001b[1;33m)\u001b[0m\u001b[1;33m)\u001b[0m\u001b[1;33m\u001b[0m\u001b[1;33m\u001b[0m\u001b[0m\n\u001b[0m\u001b[0;32m     87\u001b[0m \u001b[1;33m\u001b[0m\u001b[0m\n\u001b[0;32m     88\u001b[0m         \u001b[1;31m# Read matrix dimensions given, if any\u001b[0m\u001b[1;33m\u001b[0m\u001b[1;33m\u001b[0m\u001b[1;33m\u001b[0m\u001b[0m\n",
      "\u001b[1;32mc:\\users\\user\\appdata\\local\\programs\\python\\python37\\lib\\site-packages\\scipy\\sparse\\coo.py\u001b[0m in \u001b[0;36m__init__\u001b[1;34m(self, arg1, shape, dtype, copy)\u001b[0m\n\u001b[0;32m    188\u001b[0m \u001b[1;33m\u001b[0m\u001b[0m\n\u001b[0;32m    189\u001b[0m                 \u001b[0mself\u001b[0m\u001b[1;33m.\u001b[0m\u001b[0mrow\u001b[0m\u001b[1;33m,\u001b[0m \u001b[0mself\u001b[0m\u001b[1;33m.\u001b[0m\u001b[0mcol\u001b[0m \u001b[1;33m=\u001b[0m \u001b[0mM\u001b[0m\u001b[1;33m.\u001b[0m\u001b[0mnonzero\u001b[0m\u001b[1;33m(\u001b[0m\u001b[1;33m)\u001b[0m\u001b[1;33m\u001b[0m\u001b[1;33m\u001b[0m\u001b[0m\n\u001b[1;32m--> 190\u001b[1;33m                 \u001b[0mself\u001b[0m\u001b[1;33m.\u001b[0m\u001b[0mdata\u001b[0m \u001b[1;33m=\u001b[0m \u001b[0mM\u001b[0m\u001b[1;33m[\u001b[0m\u001b[0mself\u001b[0m\u001b[1;33m.\u001b[0m\u001b[0mrow\u001b[0m\u001b[1;33m,\u001b[0m \u001b[0mself\u001b[0m\u001b[1;33m.\u001b[0m\u001b[0mcol\u001b[0m\u001b[1;33m]\u001b[0m\u001b[1;33m\u001b[0m\u001b[1;33m\u001b[0m\u001b[0m\n\u001b[0m\u001b[0;32m    191\u001b[0m                 \u001b[0mself\u001b[0m\u001b[1;33m.\u001b[0m\u001b[0mhas_canonical_format\u001b[0m \u001b[1;33m=\u001b[0m \u001b[1;32mTrue\u001b[0m\u001b[1;33m\u001b[0m\u001b[1;33m\u001b[0m\u001b[0m\n\u001b[0;32m    192\u001b[0m \u001b[1;33m\u001b[0m\u001b[0m\n",
      "\u001b[1;31mMemoryError\u001b[0m: Unable to allocate 2.47 GiB for an array with shape (661871280,) and data type float32"
     ]
    }
   ],
   "source": [
    "# 행렬을 희소 행렬 형태로 변환\n",
    "A = csc_matrix(R_matrix.values)\n",
    "\n",
    "# SVD 수행, k는 추출할 특성의 수\n",
    "u, s, vt = svds(A, k=50)"
   ]
  },
  {
   "cell_type": "code",
   "execution_count": null,
   "id": "3e3a4ce2",
   "metadata": {},
   "outputs": [],
   "source": []
  }
 ],
 "metadata": {
  "kernelspec": {
   "display_name": "Python 3 (ipykernel)",
   "language": "python",
   "name": "python3"
  },
  "language_info": {
   "codemirror_mode": {
    "name": "ipython",
    "version": 3
   },
   "file_extension": ".py",
   "mimetype": "text/x-python",
   "name": "python",
   "nbconvert_exporter": "python",
   "pygments_lexer": "ipython3",
   "version": "3.7.3"
  },
  "toc": {
   "base_numbering": 1,
   "nav_menu": {},
   "number_sections": true,
   "sideBar": true,
   "skip_h1_title": false,
   "title_cell": "Table of Contents",
   "title_sidebar": "Contents",
   "toc_cell": false,
   "toc_position": {},
   "toc_section_display": true,
   "toc_window_display": false
  },
  "varInspector": {
   "cols": {
    "lenName": 16,
    "lenType": 16,
    "lenVar": 40
   },
   "kernels_config": {
    "python": {
     "delete_cmd_postfix": "",
     "delete_cmd_prefix": "del ",
     "library": "var_list.py",
     "varRefreshCmd": "print(var_dic_list())"
    },
    "r": {
     "delete_cmd_postfix": ") ",
     "delete_cmd_prefix": "rm(",
     "library": "var_list.r",
     "varRefreshCmd": "cat(var_dic_list()) "
    }
   },
   "types_to_exclude": [
    "module",
    "function",
    "builtin_function_or_method",
    "instance",
    "_Feature"
   ],
   "window_display": false
  }
 },
 "nbformat": 4,
 "nbformat_minor": 5
}
