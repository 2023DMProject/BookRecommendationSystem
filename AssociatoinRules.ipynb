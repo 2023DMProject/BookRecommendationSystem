{
 "cells": [
  {
   "cell_type": "code",
   "execution_count": 50,
   "metadata": {},
   "outputs": [
    {
     "name": "stderr",
     "output_type": "stream",
     "text": [
      "C:\\Users\\asdf9\\AppData\\Local\\Temp\\ipykernel_14548\\238123975.py:6: DtypeWarning: Columns (3) have mixed types. Specify dtype option on import or set low_memory=False.\n",
      "  books = pd.read_csv('Books.csv', encoding='utf-8')\n"
     ]
    },
    {
     "name": "stdout",
     "output_type": "stream",
     "text": [
      "Association Rule에서 추출한 책들:\n",
      "set()\n",
      "추천할 만한 책이 없습니다.\n"
     ]
    }
   ],
   "source": [
    "import pandas as pd\n",
    "from mlxtend.frequent_patterns import apriori, association_rules\n",
    "from mlxtend.preprocessing import TransactionEncoder\n",
    "\n",
    "# 데이터 로드\n",
    "books = pd.read_csv('Books.csv', encoding='utf-8')\n",
    "filtered_ratings = pd.read_csv('Filtered_Ratings_NoZero.csv')\n",
    "\n",
    "# transactions을 생성할 때 ISBN 값으로 리스트를 만들어주는 부분 수정\n",
    "transactions = (\n",
    "    filtered_ratings.groupby('User-ID')['ISBN']\n",
    "    .apply(list)\n",
    "    .reset_index(name='transactions')\n",
    ")\n",
    "\n",
    "# transactions을 one-hot encoding하여 DataFrame 생성\n",
    "te = TransactionEncoder()\n",
    "onehot = te.fit(transactions['transactions']).transform(transactions['transactions'])\n",
    "transactions_onehot = pd.DataFrame(onehot, columns=te.columns_)\n",
    "\n",
    "# A-Priori 알고리즘 적용\n",
    "frequent_itemsets = apriori(transactions_onehot, min_support=0.01, use_colnames=True)\n",
    "\n",
    "# Association Rule 생성\n",
    "rules = association_rules(frequent_itemsets, metric='confidence', min_threshold=0.7)\n",
    "\n",
    "# 사용자가 입력한 읽은 책\n",
    "user_input_books = input(\"읽은 책을 ISBN으로 입력하세요 (여러 개의 ISBN은 쉼표로 구분): \").split(',')\n",
    "\n",
    "# Association Rule을 이용하여 추천할 책 찾기\n",
    "recommended_books = set()\n",
    "for index, row in rules.iterrows():\n",
    "    if row['antecedents'].issubset(user_input_books) and not row['consequents'].issubset(user_input_books):\n",
    "        recommended_books.update(row['consequents'])\n",
    "\n",
    "print(f\"Association Rule에서 추출한 책들:\\n{recommended_books}\")\n",
    "\n",
    "# 결과 출력\n",
    "if recommended_books:\n",
    "    recommended_books_titles = books.loc[books['ISBN'].isin(recommended_books), 'Book-Title'].values\n",
    "    print(f\"사용자에게 추천할 만한 책들:\\n{recommended_books_titles}\")\n",
    "else:\n",
    "    print(\"추천할 만한 책이 없습니다.\")\n"
   ]
  }
 ],
 "metadata": {
  "kernelspec": {
   "display_name": "Python 3",
   "language": "python",
   "name": "python3"
  },
  "language_info": {
   "codemirror_mode": {
    "name": "ipython",
    "version": 3
   },
   "file_extension": ".py",
   "mimetype": "text/x-python",
   "name": "python",
   "nbconvert_exporter": "python",
   "pygments_lexer": "ipython3",
   "version": "3.11.6"
  }
 },
 "nbformat": 4,
 "nbformat_minor": 2
}
