{
 "cells": [
  {
   "cell_type": "code",
   "execution_count": 1,
   "metadata": {},
   "outputs": [
    {
     "name": "stdout",
     "output_type": "stream",
     "text": [
      "새로운 파일이 저장되었습니다.\n"
     ]
    }
   ],
   "source": [
    "import pandas as pd\n",
    "\n",
    "# 데이터 파일 로드\n",
    "ratings = pd.read_csv('Filtered_Ratings_NoZero.csv')\n",
    "\n",
    "# User-ID를 기준으로 평점 개수를 세어서 200개 이상인 유저만 선택\n",
    "user_counts = ratings['User-ID'].value_counts()\n",
    "selected_users = user_counts[user_counts >= 200].index\n",
    "filtered_ratings = ratings[ratings['User-ID'].isin(selected_users)]\n",
    "\n",
    "# 새로운 파일로 저장\n",
    "filtered_ratings.to_csv('Filtered_Ratings_200_or_more.csv', index=False)\n",
    "\n",
    "print(\"새로운 파일이 저장되었습니다.\")\n"
   ]
  },
  {
   "cell_type": "code",
   "execution_count": 19,
   "metadata": {},
   "outputs": [],
   "source": [
    "import pandas as pd\n",
    "\n",
    "# 데이터 로드\n",
    "data = pd.read_csv('Filtered_Ratings_200_or_more.csv')\n",
    "\n",
    "# 랜덤 샘플링\n",
    "random_users = data['User-ID'].unique()[:1000]\n",
    "random_data = data[data['User-ID'].isin(random_users)]\n",
    "\n",
    "# 결과를 CSV 파일로 저장\n",
    "random_data.to_csv('Random_User_Rating.csv', index=False)\n"
   ]
  },
  {
   "cell_type": "code",
   "execution_count": 24,
   "metadata": {},
   "outputs": [
    {
     "name": "stdout",
     "output_type": "stream",
     "text": [
      "도서 추천:\n",
      "7170     Cowboy For Clementine (Home On The Ranch) (Har...\n",
      "12557                                           Sweetwater\n",
      "18030    Man From Blue River (Home On The Ranch) (Harle...\n",
      "18057                  The Bandit's Lady (Harper Monogram)\n",
      "18248    Texas Standoff  (Home On The Ranch) (Harlequin...\n",
      "Name: Book-Title, dtype: object\n"
     ]
    },
    {
     "name": "stderr",
     "output_type": "stream",
     "text": [
      "C:\\Users\\asdf9\\AppData\\Local\\Temp\\ipykernel_10728\\3378612624.py:5: DtypeWarning: Columns (3) have mixed types. Specify dtype option on import or set low_memory=False.\n",
      "  books = pd.read_csv('Books.csv', encoding='ISO-8859-1')\n"
     ]
    }
   ],
   "source": [
    "import pandas as pd\n",
    "\n",
    "# 데이터 로드\n",
    "data = pd.read_csv('Filtered_Ratings_200_or_more.csv')\n",
    "books = pd.read_csv('Books.csv', encoding='ISO-8859-1')\n",
    "\n",
    "# 사용자가 읽은 책\n",
    "input_book = '037310507X'\n",
    "\n",
    "# 해당 책을 읽은 유저들 찾기\n",
    "users_who_read_input_book = data[data['ISBN'] == input_book]['User-ID']\n",
    "\n",
    "# 이 유저들이 평점을 7점 이상 준 도서 찾기\n",
    "high_rated_books = data[(data['User-ID'].isin(users_who_read_input_book)) & (data['Book-Rating'] >= 7)]\n",
    "\n",
    "# 빈도수가 가장 높은 도서 5권 찾기\n",
    "recommended_books = high_rated_books['ISBN'].value_counts().nlargest(5).index\n",
    "\n",
    "# 추천된 도서의 제목 찾기\n",
    "recommended_books_titles = books[books['ISBN'].isin(recommended_books)]['Book-Title']\n",
    "\n",
    "print(\"도서 추천:\")\n",
    "print(recommended_books_titles)\n"
   ]
  },
  {
   "cell_type": "code",
   "execution_count": 1,
   "metadata": {},
   "outputs": [
    {
     "name": "stderr",
     "output_type": "stream",
     "text": [
      "C:\\Users\\asdf9\\AppData\\Local\\Temp\\ipykernel_17276\\1153607061.py:6: DtypeWarning: Columns (3) have mixed types. Specify dtype option on import or set low_memory=False.\n",
      "  books = pd.read_csv('Books.csv', encoding='ISO-8859-1')\n",
      "C:\\Users\\asdf9\\AppData\\Local\\Temp\\ipykernel_17276\\1153607061.py:20: FutureWarning: DataFrame.applymap has been deprecated. Use DataFrame.map instead.\n",
      "  .set_index('User-ID').applymap(lambda x: 1 if x > 0 else 0))\n",
      "C:\\Users\\asdf9\\AppData\\Local\\Packages\\PythonSoftwareFoundation.Python.3.11_qbz5n2kfra8p0\\LocalCache\\local-packages\\Python311\\site-packages\\mlxtend\\frequent_patterns\\fpcommon.py:110: DeprecationWarning: DataFrames with non-bool types result in worse computationalperformance and their support might be discontinued in the future.Please use a DataFrame with bool type\n",
      "  warnings.warn(\n"
     ]
    },
    {
     "name": "stdout",
     "output_type": "stream",
     "text": [
      "User 11676에게 도서 추천:\n",
      "2143    Harry Potter and the Sorcerer's Stone (Harry P...\n",
      "Name: Book-Title, dtype: object\n"
     ]
    }
   ],
   "source": [
    "import pandas as pd\n",
    "from mlxtend.frequent_patterns import apriori\n",
    "\n",
    "# 데이터 로드\n",
    "data = pd.read_csv('Random_User_Rating.csv')\n",
    "books = pd.read_csv('Books.csv', encoding='ISO-8859-1')\n",
    "\n",
    "# 특정 유저 선택 (임의로 User-ID를 설정)\n",
    "selected_user = data['User-ID'].sample(1).values[0]\n",
    "\n",
    "# 선택한 유저가 읽은 도서 데이터 중 평점이 7점 이상인 도서 선택\n",
    "user_high_rated_books = data[(data['User-ID'] == selected_user) & (data['Book-Rating'] >= 7)]\n",
    "\n",
    "# 선택한 유저가 읽은 도서들에 평점을 7점 이상 준 다른 유저들의 도서 데이터\n",
    "other_users_data = data[(data['ISBN'].isin(user_high_rated_books['ISBN'])) & (data['User-ID'] != selected_user) & (data['Book-Rating'] >= 7)]\n",
    "\n",
    "# 데이터 전처리 - 이진 데이터로 변환\n",
    "basket = (other_users_data.groupby(['User-ID', 'ISBN'])['Book-Rating']\n",
    "          .sum().unstack().reset_index().fillna(0)\n",
    "          .set_index('User-ID').applymap(lambda x: 1 if x > 0 else 0))\n",
    "\n",
    "# Apriori 알고리즘을 사용하여 연관 규칙 생성\n",
    "frequent_itemsets = apriori(basket, min_support=0.01, use_colnames=True)\n",
    "\n",
    "# 연관된 도서들 중 빈도수가 가장 높은 도서 3권 중 1권추천\n",
    "recommended_books = frequent_itemsets.nlargest(3, 'support')['itemsets'].values[0]\n",
    "\n",
    "# 추천된 도서의 제목 찾기\n",
    "recommended_books_titles = books[books['ISBN'].isin(recommended_books)]['Book-Title']\n",
    "\n",
    "print(f\"User {selected_user}에게 도서 추천:\")\n",
    "print(recommended_books_titles)\n"
   ]
  },
  {
   "cell_type": "code",
   "execution_count": 15,
   "metadata": {},
   "outputs": [
    {
     "name": "stderr",
     "output_type": "stream",
     "text": [
      "C:\\Users\\asdf9\\AppData\\Local\\Temp\\ipykernel_19496\\1753462460.py:6: DtypeWarning: Columns (3) have mixed types. Specify dtype option on import or set low_memory=False.\n",
      "  books = pd.read_csv('Books.csv', encoding='ISO-8859-1')\n",
      "C:\\Users\\asdf9\\AppData\\Local\\Temp\\ipykernel_19496\\1753462460.py:20: FutureWarning: DataFrame.applymap has been deprecated. Use DataFrame.map instead.\n",
      "  .set_index('User-ID').applymap(lambda x: 1 if x > 0 else 0))\n",
      "C:\\Users\\asdf9\\AppData\\Local\\Packages\\PythonSoftwareFoundation.Python.3.11_qbz5n2kfra8p0\\LocalCache\\local-packages\\Python311\\site-packages\\mlxtend\\frequent_patterns\\fpcommon.py:110: DeprecationWarning: DataFrames with non-bool types result in worse computationalperformance and their support might be discontinued in the future.Please use a DataFrame with bool type\n",
      "  warnings.warn(\n"
     ]
    },
    {
     "name": "stdout",
     "output_type": "stream",
     "text": [
      "User 38273에게 도서 추천:\n",
      "6196    Full House (Janet Evanovich's Full Series)\n",
      "Name: Book-Title, dtype: object\n"
     ]
    }
   ],
   "source": [
    "import pandas as pd\n",
    "from mlxtend.frequent_patterns import apriori\n",
    "\n",
    "# 데이터 로드\n",
    "data = pd.read_csv('Random_User_Rating.csv')\n",
    "books = pd.read_csv('Books.csv', encoding='ISO-8859-1')\n",
    "\n",
    "# 특정 유저 선택 (임의로 User-ID를 설정)\n",
    "selected_user = data['User-ID'].sample(1).values[0]\n",
    "\n",
    "# 선택한 유저가 읽은 도서 데이터 중 평점이 7점 이상인 도서 선택\n",
    "user_high_rated_books = data[(data['User-ID'] == selected_user) & (data['Book-Rating'] >= 7)]\n",
    "\n",
    "# 선택한 유저가 읽은 도서들에 평점을 7점 이상 준 다른 유저들의 도서 데이터\n",
    "other_users_data = data[(data['ISBN'].isin(user_high_rated_books['ISBN'])) & (data['User-ID'] != selected_user) & (data['Book-Rating'] >= 7)]\n",
    "\n",
    "# 데이터 전처리 - 이진 데이터로 변환\n",
    "basket = (other_users_data.groupby(['User-ID', 'ISBN'])['Book-Rating']\n",
    "          .sum().unstack().reset_index().fillna(0)\n",
    "          .set_index('User-ID').applymap(lambda x: 1 if x > 0 else 0))\n",
    "\n",
    "# Apriori 알고리즘을 사용하여 연관 규칙 생성\n",
    "frequent_itemsets = apriori(basket, min_support=0.01, use_colnames=True)\n",
    "\n",
    "# 연관된 도서들 중 빈도수가 가장 높은 도서 3권 중 1권추천\n",
    "recommended_books = frequent_itemsets.nlargest(3, 'support')['itemsets'].values[0]\n",
    "\n",
    "# 추천된 도서의 제목 찾기\n",
    "recommended_books_titles = books[books['ISBN'].isin(recommended_books)]['Book-Title']\n",
    "\n",
    "print(f\"User {selected_user}에게 도서 추천:\")\n",
    "print(recommended_books_titles)\n"
   ]
  },
  {
   "cell_type": "code",
   "execution_count": 18,
   "metadata": {},
   "outputs": [
    {
     "name": "stderr",
     "output_type": "stream",
     "text": [
      "C:\\Users\\asdf9\\AppData\\Local\\Temp\\ipykernel_19496\\941276213.py:6: DtypeWarning: Columns (3) have mixed types. Specify dtype option on import or set low_memory=False.\n",
      "  books = pd.read_csv('Books.csv', encoding='ISO-8859-1')\n",
      "C:\\Users\\asdf9\\AppData\\Local\\Temp\\ipykernel_19496\\941276213.py:20: FutureWarning: DataFrame.applymap has been deprecated. Use DataFrame.map instead.\n",
      "  .set_index('User-ID').applymap(lambda x: 1 if x > 0 else 0))\n",
      "C:\\Users\\asdf9\\AppData\\Local\\Packages\\PythonSoftwareFoundation.Python.3.11_qbz5n2kfra8p0\\LocalCache\\local-packages\\Python311\\site-packages\\mlxtend\\frequent_patterns\\fpcommon.py:110: DeprecationWarning: DataFrames with non-bool types result in worse computationalperformance and their support might be discontinued in the future.Please use a DataFrame with bool type\n",
      "  warnings.warn(\n"
     ]
    },
    {
     "name": "stdout",
     "output_type": "stream",
     "text": [
      "User 105517에게 도서 추천:\n",
      "408    The Lovely Bones: A Novel\n",
      "Name: Book-Title, dtype: object\n"
     ]
    }
   ],
   "source": [
    "import pandas as pd\n",
    "from mlxtend.frequent_patterns import apriori\n",
    "\n",
    "# 데이터 로드\n",
    "data = pd.read_csv('Random_User_Rating.csv')\n",
    "books = pd.read_csv('Books.csv', encoding='ISO-8859-1')\n",
    "\n",
    "# 특정 유저 선택 (임의로 User-ID를 설정)\n",
    "selected_user = data['User-ID'].sample(1).values[0]\n",
    "\n",
    "# 선택한 유저가 읽은 도서 데이터 중 평점이 7점 이상인 도서 선택\n",
    "user_high_rated_books = data[(data['User-ID'] == selected_user) & (data['Book-Rating'] >= 7)]\n",
    "\n",
    "# 선택한 유저가 읽은 도서들에 평점을 7점 이상 준 다른 유저들의 도서 데이터\n",
    "other_users_data = data[(data['ISBN'].isin(user_high_rated_books['ISBN'])) & (data['User-ID'] != selected_user) & (data['Book-Rating'] >= 7)]\n",
    "\n",
    "# 데이터 전처리 - 이진 데이터로 변환\n",
    "basket = (other_users_data.groupby(['User-ID', 'ISBN'])['Book-Rating']\n",
    "          .sum().unstack().reset_index().fillna(0)\n",
    "          .set_index('User-ID').applymap(lambda x: 1 if x > 0 else 0))\n",
    "\n",
    "# Apriori 알고리즘을 사용하여 연관 규칙 생성\n",
    "frequent_itemsets = apriori(basket, min_support=0.01, use_colnames=True)\n",
    "\n",
    "# 연관된 도서들 중 빈도수가 가장 높은 도서 1권 추천 \n",
    "recommended_books = frequent_itemsets.nlargest(1, 'support')['itemsets'].values[0]\n",
    "\n",
    "# 추천된 도서의 제목 찾기\n",
    "recommended_books_titles = books[books['ISBN'].isin(recommended_books)]['Book-Title']\n",
    "\n",
    "print(f\"User {selected_user}에게 도서 추천:\")\n",
    "print(recommended_books_titles)\n"
   ]
  },
  {
   "cell_type": "code",
   "execution_count": 20,
   "metadata": {},
   "outputs": [
    {
     "name": "stderr",
     "output_type": "stream",
     "text": [
      "C:\\Users\\asdf9\\AppData\\Local\\Temp\\ipykernel_19496\\941276213.py:6: DtypeWarning: Columns (3) have mixed types. Specify dtype option on import or set low_memory=False.\n",
      "  books = pd.read_csv('Books.csv', encoding='ISO-8859-1')\n",
      "C:\\Users\\asdf9\\AppData\\Local\\Temp\\ipykernel_19496\\941276213.py:20: FutureWarning: DataFrame.applymap has been deprecated. Use DataFrame.map instead.\n",
      "  .set_index('User-ID').applymap(lambda x: 1 if x > 0 else 0))\n",
      "C:\\Users\\asdf9\\AppData\\Local\\Packages\\PythonSoftwareFoundation.Python.3.11_qbz5n2kfra8p0\\LocalCache\\local-packages\\Python311\\site-packages\\mlxtend\\frequent_patterns\\fpcommon.py:110: DeprecationWarning: DataFrames with non-bool types result in worse computationalperformance and their support might be discontinued in the future.Please use a DataFrame with bool type\n",
      "  warnings.warn(\n"
     ]
    },
    {
     "name": "stdout",
     "output_type": "stream",
     "text": [
      "User 63714에게 도서 추천:\n",
      "4320    The Darwin Awards II: Unnatural Selection\n",
      "Name: Book-Title, dtype: object\n"
     ]
    }
   ],
   "source": [
    "import pandas as pd\n",
    "from mlxtend.frequent_patterns import apriori\n",
    "\n",
    "# 데이터 로드\n",
    "data = pd.read_csv('Random_User_Rating.csv')\n",
    "books = pd.read_csv('Books.csv', encoding='ISO-8859-1')\n",
    "\n",
    "# 특정 유저 선택 (임의로 User-ID를 설정)\n",
    "selected_user = data['User-ID'].sample(1).values[0]\n",
    "\n",
    "# 선택한 유저가 읽은 도서 데이터 중 평점이 7점 이상인 도서 선택\n",
    "user_high_rated_books = data[(data['User-ID'] == selected_user) & (data['Book-Rating'] >= 7)]\n",
    "\n",
    "# 선택한 유저가 읽은 도서들에 평점을 7점 이상 준 다른 유저들의 도서 데이터\n",
    "other_users_data = data[(data['ISBN'].isin(user_high_rated_books['ISBN'])) & (data['User-ID'] != selected_user) & (data['Book-Rating'] >= 7)]\n",
    "\n",
    "# 데이터 전처리 - 이진 데이터로 변환\n",
    "basket = (other_users_data.groupby(['User-ID', 'ISBN'])['Book-Rating']\n",
    "          .sum().unstack().reset_index().fillna(0)\n",
    "          .set_index('User-ID').applymap(lambda x: 1 if x > 0 else 0))\n",
    "\n",
    "# Apriori 알고리즘을 사용하여 연관 규칙 생성\n",
    "frequent_itemsets = apriori(basket, min_support=0.01, use_colnames=True)\n",
    "\n",
    "# 연관된 도서들 중 빈도수가 가장 높은 도서 1권 추천 \n",
    "recommended_books = frequent_itemsets.nlargest(1, 'support')['itemsets'].values[0]\n",
    "\n",
    "# 추천된 도서의 제목 찾기\n",
    "recommended_books_titles = books[books['ISBN'].isin(recommended_books)]['Book-Title']\n",
    "\n",
    "print(f\"User {selected_user}에게 도서 추천:\")\n",
    "print(recommended_books_titles)\n"
   ]
  },
  {
   "cell_type": "code",
   "execution_count": 21,
   "metadata": {},
   "outputs": [
    {
     "name": "stdout",
     "output_type": "stream",
     "text": [
      "새로운 파일이 생성되었습니다: Filtered_Ratings_SelectedUsers.csv\n"
     ]
    }
   ],
   "source": [
    "import pandas as pd\n",
    "\n",
    "# 데이터 로드\n",
    "ratings_data = pd.read_csv('Filtered_Ratings_NoZero.csv')\n",
    "\n",
    "# 유저별 평점 개수 계산\n",
    "user_ratings_count = ratings_data['User-ID'].value_counts()\n",
    "\n",
    "# 평점 개수가 100개 이상 200개 이하인 유저들의 ID 추출\n",
    "selected_users = user_ratings_count[(user_ratings_count >= 100) & (user_ratings_count <= 200)].index\n",
    "\n",
    "# 해당 유저들의 정보만 필터링\n",
    "filtered_ratings_data = ratings_data[ratings_data['User-ID'].isin(selected_users)]\n",
    "\n",
    "# 결과를 새로운 CSV 파일로 저장\n",
    "filtered_ratings_data.to_csv('Filtered_Ratings_SelectedUsers.csv', index=False)\n",
    "\n",
    "print(\"새로운 파일이 생성되었습니다: Filtered_Ratings_SelectedUsers.csv\")\n"
   ]
  },
  {
   "cell_type": "code",
   "execution_count": 22,
   "metadata": {},
   "outputs": [
    {
     "name": "stdout",
     "output_type": "stream",
     "text": [
      "User 201290에게 도서 추천:\n",
      "5431    Harry Potter and the Goblet of Fire (Book 4)\n",
      "Name: Book-Title, dtype: object\n"
     ]
    },
    {
     "name": "stderr",
     "output_type": "stream",
     "text": [
      "C:\\Users\\asdf9\\AppData\\Local\\Temp\\ipykernel_19496\\2063814663.py:6: DtypeWarning: Columns (3) have mixed types. Specify dtype option on import or set low_memory=False.\n",
      "  books = pd.read_csv('Books.csv', encoding='ISO-8859-1')\n",
      "C:\\Users\\asdf9\\AppData\\Local\\Temp\\ipykernel_19496\\2063814663.py:20: FutureWarning: DataFrame.applymap has been deprecated. Use DataFrame.map instead.\n",
      "  .set_index('User-ID').applymap(lambda x: 1 if x > 0 else 0))\n",
      "C:\\Users\\asdf9\\AppData\\Local\\Packages\\PythonSoftwareFoundation.Python.3.11_qbz5n2kfra8p0\\LocalCache\\local-packages\\Python311\\site-packages\\mlxtend\\frequent_patterns\\fpcommon.py:110: DeprecationWarning: DataFrames with non-bool types result in worse computationalperformance and their support might be discontinued in the future.Please use a DataFrame with bool type\n",
      "  warnings.warn(\n"
     ]
    }
   ],
   "source": [
    "import pandas as pd\n",
    "from mlxtend.frequent_patterns import apriori\n",
    "\n",
    "# 데이터 로드\n",
    "data = pd.read_csv('Filtered_Ratings_SelectedUsers.csv')\n",
    "books = pd.read_csv('Books.csv', encoding='ISO-8859-1')\n",
    "\n",
    "# 특정 유저 선택 (임의로 User-ID를 설정)\n",
    "selected_user = data['User-ID'].sample(1).values[0]\n",
    "\n",
    "# 선택한 유저가 읽은 도서 데이터 중 평점이 7점 이상인 도서 선택\n",
    "user_high_rated_books = data[(data['User-ID'] == selected_user) & (data['Book-Rating'] >= 7)]\n",
    "\n",
    "# 선택한 유저가 읽은 도서들에 평점을 7점 이상 준 다른 유저들의 도서 데이터\n",
    "other_users_data = data[(data['ISBN'].isin(user_high_rated_books['ISBN'])) & (data['User-ID'] != selected_user) & (data['Book-Rating'] >= 7)]\n",
    "\n",
    "# 데이터 전처리 - 이진 데이터로 변환\n",
    "basket = (other_users_data.groupby(['User-ID', 'ISBN'])['Book-Rating']\n",
    "          .sum().unstack().reset_index().fillna(0)\n",
    "          .set_index('User-ID').applymap(lambda x: 1 if x > 0 else 0))\n",
    "\n",
    "# Apriori 알고리즘을 사용하여 연관 규칙 생성\n",
    "frequent_itemsets = apriori(basket, min_support=0.01, use_colnames=True)\n",
    "\n",
    "# 연관된 도서들 중 빈도수가 가장 높은 도서 1권 추천 \n",
    "recommended_books = frequent_itemsets.nlargest(1, 'support')['itemsets'].values[0]\n",
    "\n",
    "# 추천된 도서의 제목 찾기\n",
    "recommended_books_titles = books[books['ISBN'].isin(recommended_books)]['Book-Title']\n",
    "\n",
    "print(f\"User {selected_user}에게 도서 추천:\")\n",
    "print(recommended_books_titles)\n"
   ]
  },
  {
   "cell_type": "code",
   "execution_count": 23,
   "metadata": {},
   "outputs": [
    {
     "name": "stdout",
     "output_type": "stream",
     "text": [
      "User 244627에게 도서 추천:\n",
      "18    The Testament\n",
      "Name: Book-Title, dtype: object\n"
     ]
    },
    {
     "name": "stderr",
     "output_type": "stream",
     "text": [
      "C:\\Users\\asdf9\\AppData\\Local\\Temp\\ipykernel_19496\\2063814663.py:6: DtypeWarning: Columns (3) have mixed types. Specify dtype option on import or set low_memory=False.\n",
      "  books = pd.read_csv('Books.csv', encoding='ISO-8859-1')\n",
      "C:\\Users\\asdf9\\AppData\\Local\\Temp\\ipykernel_19496\\2063814663.py:20: FutureWarning: DataFrame.applymap has been deprecated. Use DataFrame.map instead.\n",
      "  .set_index('User-ID').applymap(lambda x: 1 if x > 0 else 0))\n",
      "C:\\Users\\asdf9\\AppData\\Local\\Packages\\PythonSoftwareFoundation.Python.3.11_qbz5n2kfra8p0\\LocalCache\\local-packages\\Python311\\site-packages\\mlxtend\\frequent_patterns\\fpcommon.py:110: DeprecationWarning: DataFrames with non-bool types result in worse computationalperformance and their support might be discontinued in the future.Please use a DataFrame with bool type\n",
      "  warnings.warn(\n"
     ]
    }
   ],
   "source": [
    "import pandas as pd\n",
    "from mlxtend.frequent_patterns import apriori\n",
    "\n",
    "# 데이터 로드\n",
    "data = pd.read_csv('Filtered_Ratings_SelectedUsers.csv')\n",
    "books = pd.read_csv('Books.csv', encoding='ISO-8859-1')\n",
    "\n",
    "# 특정 유저 선택 (임의로 User-ID를 설정)\n",
    "selected_user = data['User-ID'].sample(1).values[0]\n",
    "\n",
    "# 선택한 유저가 읽은 도서 데이터 중 평점이 7점 이상인 도서 선택\n",
    "user_high_rated_books = data[(data['User-ID'] == selected_user) & (data['Book-Rating'] >= 7)]\n",
    "\n",
    "# 선택한 유저가 읽은 도서들에 평점을 7점 이상 준 다른 유저들의 도서 데이터\n",
    "other_users_data = data[(data['ISBN'].isin(user_high_rated_books['ISBN'])) & (data['User-ID'] != selected_user) & (data['Book-Rating'] >= 7)]\n",
    "\n",
    "# 데이터 전처리 - 이진 데이터로 변환\n",
    "basket = (other_users_data.groupby(['User-ID', 'ISBN'])['Book-Rating']\n",
    "          .sum().unstack().reset_index().fillna(0)\n",
    "          .set_index('User-ID').applymap(lambda x: 1 if x > 0 else 0))\n",
    "\n",
    "# Apriori 알고리즘을 사용하여 연관 규칙 생성\n",
    "frequent_itemsets = apriori(basket, min_support=0.01, use_colnames=True)\n",
    "\n",
    "# 연관된 도서들 중 빈도수가 가장 높은 도서 1권 추천 \n",
    "recommended_books = frequent_itemsets.nlargest(1, 'support')['itemsets'].values[0]\n",
    "\n",
    "# 추천된 도서의 제목 찾기\n",
    "recommended_books_titles = books[books['ISBN'].isin(recommended_books)]['Book-Title']\n",
    "\n",
    "print(f\"User {selected_user}에게 도서 추천:\")\n",
    "print(recommended_books_titles)\n"
   ]
  },
  {
   "cell_type": "code",
   "execution_count": 29,
   "metadata": {},
   "outputs": [
    {
     "name": "stdout",
     "output_type": "stream",
     "text": [
      "User 247429에게 도서 추천:\n",
      "3354    The Hobbit : The Enchanting Prelude to The Lor...\n",
      "Name: Book-Title, dtype: object\n",
      "1571    The Fellowship of the Ring (The Lord of the Ri...\n",
      "Name: Book-Title, dtype: object\n",
      "3730    Anne of Avonlea (Anne of Green Gables Novels (...\n",
      "Name: Book-Title, dtype: object\n"
     ]
    },
    {
     "name": "stderr",
     "output_type": "stream",
     "text": [
      "C:\\Users\\asdf9\\AppData\\Local\\Temp\\ipykernel_19496\\1278634032.py:6: DtypeWarning: Columns (3) have mixed types. Specify dtype option on import or set low_memory=False.\n",
      "  books = pd.read_csv('Books.csv', encoding='ISO-8859-1')\n",
      "C:\\Users\\asdf9\\AppData\\Local\\Temp\\ipykernel_19496\\1278634032.py:20: FutureWarning: DataFrame.applymap has been deprecated. Use DataFrame.map instead.\n",
      "  .set_index('User-ID').applymap(lambda x: 1 if x > 0 else 0))\n",
      "C:\\Users\\asdf9\\AppData\\Local\\Packages\\PythonSoftwareFoundation.Python.3.11_qbz5n2kfra8p0\\LocalCache\\local-packages\\Python311\\site-packages\\mlxtend\\frequent_patterns\\fpcommon.py:110: DeprecationWarning: DataFrames with non-bool types result in worse computationalperformance and their support might be discontinued in the future.Please use a DataFrame with bool type\n",
      "  warnings.warn(\n"
     ]
    }
   ],
   "source": [
    "import pandas as pd\n",
    "from mlxtend.frequent_patterns import apriori\n",
    "\n",
    "# 데이터 로드\n",
    "data = pd.read_csv('Filtered_Ratings_SelectedUsers.csv')\n",
    "books = pd.read_csv('Books.csv', encoding='ISO-8859-1')\n",
    "\n",
    "# 특정 유저 선택 (임의로 User-ID를 설정)\n",
    "selected_user = data['User-ID'].sample(1).values[0]\n",
    "\n",
    "# 선택한 유저가 읽은 도서 데이터 중 평점이 7점 이상인 도서 선택\n",
    "user_high_rated_books = data[(data['User-ID'] == selected_user) & (data['Book-Rating'] >= 7)]\n",
    "\n",
    "# 선택한 유저가 읽은 도서들에 평점을 7점 이상 준 다른 유저들의 도서 데이터\n",
    "other_users_data = data[(data['ISBN'].isin(user_high_rated_books['ISBN'])) & (data['User-ID'] != selected_user) & (data['Book-Rating'] >= 7)]\n",
    "\n",
    "# 데이터 전처리 - 이진 데이터로 변환\n",
    "basket = (other_users_data.groupby(['User-ID', 'ISBN'])['Book-Rating']\n",
    "          .sum().unstack().reset_index().fillna(0)\n",
    "          .set_index('User-ID').applymap(lambda x: 1 if x > 0 else 0))\n",
    "\n",
    "# Apriori 알고리즘을 사용하여 연관 규칙 생성\n",
    "frequent_itemsets = apriori(basket, min_support=0.01, use_colnames=True)\n",
    "\n",
    "# 연관된 도서들 중 빈도수가 가장 높은 도서 3권 추천 \n",
    "recommended_books = frequent_itemsets.nlargest(3, 'support')['itemsets'].values\n",
    "\n",
    "# 추천된 도서의 제목 찾기\n",
    "recommended_books_titles = books[books['ISBN'].isin(recommended_books)]['Book-Title']\n",
    "\n",
    "print(f\"User {selected_user}에게 도서 추천:\")\n",
    "for book_set in recommended_books:\n",
    "    recommended_books_titles = books[books['ISBN'].isin(book_set)]['Book-Title']\n",
    "    print(recommended_books_titles)\n"
   ]
  },
  {
   "cell_type": "code",
   "execution_count": 37,
   "metadata": {},
   "outputs": [
    {
     "name": "stderr",
     "output_type": "stream",
     "text": [
      "C:\\Users\\asdf9\\AppData\\Local\\Temp\\ipykernel_19496\\2035278999.py:6: DtypeWarning: Columns (3) have mixed types. Specify dtype option on import or set low_memory=False.\n",
      "  books = pd.read_csv('Books.csv', encoding='ISO-8859-1')\n",
      "C:\\Users\\asdf9\\AppData\\Local\\Temp\\ipykernel_19496\\2035278999.py:20: FutureWarning: DataFrame.applymap has been deprecated. Use DataFrame.map instead.\n",
      "  .set_index('User-ID').applymap(lambda x: 1 if x > 0 else 0))\n",
      "C:\\Users\\asdf9\\AppData\\Local\\Packages\\PythonSoftwareFoundation.Python.3.11_qbz5n2kfra8p0\\LocalCache\\local-packages\\Python311\\site-packages\\mlxtend\\frequent_patterns\\fpcommon.py:110: DeprecationWarning: DataFrames with non-bool types result in worse computationalperformance and their support might be discontinued in the future.Please use a DataFrame with bool type\n",
      "  warnings.warn(\n"
     ]
    },
    {
     "name": "stdout",
     "output_type": "stream",
     "text": [
      "User 35859에게 도서 추천:\n",
      "2143    Harry Potter and the Sorcerer's Stone (Harry P...\n",
      "Name: Book-Title, dtype: object\n",
      "522    The Red Tent (Bestselling Backlist)\n",
      "Name: Book-Title, dtype: object\n",
      "1863    1st to Die: A Novel\n",
      "Name: Book-Title, dtype: object\n"
     ]
    }
   ],
   "source": [
    "import pandas as pd\n",
    "from mlxtend.frequent_patterns import apriori\n",
    "\n",
    "# 데이터 로드\n",
    "data = pd.read_csv('Random_User_Rating.csv')\n",
    "books = pd.read_csv('Books.csv', encoding='ISO-8859-1')\n",
    "\n",
    "# 특정 유저 선택 (임의로 User-ID를 설정)\n",
    "selected_user = data['User-ID'].sample(1).values[0]\n",
    "\n",
    "# 선택한 유저가 읽은 도서 데이터 중 평점이 7점 이상인 도서 선택\n",
    "user_high_rated_books = data[(data['User-ID'] == selected_user) & (data['Book-Rating'] >= 7)]\n",
    "\n",
    "# 선택한 유저가 읽은 도서들에 평점을 7점 이상 준 다른 유저들의 도서 데이터\n",
    "other_users_data = data[(data['ISBN'].isin(user_high_rated_books['ISBN'])) & (data['User-ID'] != selected_user) & (data['Book-Rating'] >= 7)]\n",
    "\n",
    "# 데이터 전처리 - 이진 데이터로 변환\n",
    "basket = (other_users_data.groupby(['User-ID', 'ISBN'])['Book-Rating']\n",
    "          .sum().unstack().reset_index().fillna(0)\n",
    "          .set_index('User-ID').applymap(lambda x: 1 if x > 0 else 0))\n",
    "\n",
    "# Apriori 알고리즘을 사용하여 연관 규칙 생성\n",
    "frequent_itemsets = apriori(basket, min_support=0.01, use_colnames=True)\n",
    "\n",
    "# 연관된 도서들 중 빈도수가 가장 높은 도서 3권 추천 \n",
    "recommended_books = frequent_itemsets.nlargest(3, 'support')['itemsets'].values\n",
    "\n",
    "# 추천된 도서의 제목 찾기\n",
    "recommended_books_titles = books[books['ISBN'].isin(recommended_books)]['Book-Title']\n",
    "\n",
    "print(f\"User {selected_user}에게 도서 추천:\")\n",
    "for book_set in recommended_books:\n",
    "    recommended_books_titles = books[books['ISBN'].isin(book_set)]['Book-Title']\n",
    "    print(recommended_books_titles)\n"
   ]
  }
 ],
 "metadata": {
  "kernelspec": {
   "display_name": "Python 3",
   "language": "python",
   "name": "python3"
  },
  "language_info": {
   "codemirror_mode": {
    "name": "ipython",
    "version": 3
   },
   "file_extension": ".py",
   "mimetype": "text/x-python",
   "name": "python",
   "nbconvert_exporter": "python",
   "pygments_lexer": "ipython3",
   "version": "3.11.6"
  }
 },
 "nbformat": 4,
 "nbformat_minor": 2
}
