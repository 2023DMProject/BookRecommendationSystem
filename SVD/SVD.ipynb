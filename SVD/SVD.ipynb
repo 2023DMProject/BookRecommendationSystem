{
 "cells": [
  {
   "cell_type": "code",
   "execution_count": 1,
   "id": "2e0132f6",
   "metadata": {},
   "outputs": [],
   "source": [
    "import pandas as pd\n",
    "import matplotlib.pyplot as plt\n",
    "\n",
    "import seaborn as sns\n",
    "import gc"
   ]
  },
  {
   "cell_type": "code",
   "execution_count": null,
   "id": "d3a7733c",
   "metadata": {},
   "outputs": [],
   "source": [
    "# filtered_ratings_df = pd.read_csv(\"Filtered_Ratings.csv\",dtype={\"ISBN\": str}, low_memory=False)\n",
    "# fr0_df = filtered_ratings_df[filtered_ratings_df['Book-Rating'] != 0]\n",
    "# fr0_df\n",
    "# fr0_df.to_csv(\"Filtered_Ratings_NoZero.csv\", index=False)"
   ]
  },
  {
   "cell_type": "markdown",
   "id": "8ea9a9b3",
   "metadata": {},
   "source": [
    "* Latent Factor Models (SVD : R = Q*Pt)\n",
    "* unrated books에 대해서는 0이 아닌 NaN으로 유지\n",
    "* Sparse SVD를 통해 누락된 값(NaN) 무시하고 데이터가 있는 값들만 사용하여 분해를 수행"
   ]
  },
  {
   "cell_type": "code",
   "execution_count": null,
   "id": "2bb076a5",
   "metadata": {
    "scrolled": true
   },
   "outputs": [],
   "source": [
    "# fr0_df\n",
    "# row_cnt = fr0_df[\"User-ID\"].count()\n",
    "# row_cnt\n",
    "# #R_matrix = fr0_df.pivot(index='ISBN', columns='User-ID', values='Book-Rating')"
   ]
  },
  {
   "cell_type": "code",
   "execution_count": null,
   "id": "aa30ac46",
   "metadata": {},
   "outputs": [],
   "source": [
    "# rating_nozero_df = pd.read_csv(\"Filtered_Ratings_NoZero.csv\")\n",
    "# R_matrix = rating_nozero_df.pivot(index='ISBN', columns='User-ID', values='Book-Rating')"
   ]
  },
  {
   "cell_type": "code",
   "execution_count": null,
   "id": "ec2c36f3",
   "metadata": {},
   "outputs": [],
   "source": [
    "# 고유한 user-id 개수\n",
    "# rating_nozero_df = pd.read_csv(\"Filtered_Ratings_NoZero.csv\")\n",
    "# userid_cnt = rating_nozero_df[\"User-ID\"].nunique()\n",
    "# isbn_cnt = rating_nozero_df[\"ISBN\"].nunique()\n",
    "# row_cnt = rating_nozero_df[\"User-ID\"].count()\n",
    "# print(\"unique User-ID : \", userid_cnt)\n",
    "# print(\"unique ISBN : \", isbn_cnt)\n",
    "# print(\"row count : \", row_cnt)"
   ]
  },
  {
   "cell_type": "code",
   "execution_count": null,
   "id": "c9dc3390",
   "metadata": {},
   "outputs": [],
   "source": [
    "# from pyspark.sql import SparkSession\n",
    "# from pyspark.sql.functions import col\n",
    "# from pyspark.mllib.linalg.distributed import RowMatrix\n",
    "\n",
    "# # spark 세션 시작\n",
    "# spark = SparkSession.builder.appName(\"ratingMatrix\").config(\"spark.sql.pivotMaxValues\", 10000).config(\"spark.driver.memory\", \"16g\").config(\"spark.executor.memory\", \"16g\").getOrCreate()\n",
    "# #csv 파일을 Spark DF로 로드\n",
    "# df = spark.read.csv(\"Filtered_Ratings_NoZero.csv\", header=True, inferSchema=True)\n",
    "\n",
    "# # 처음 10만개 데이터만 선택\n",
    "# limited_df = df.limit(10000)\n",
    "\n",
    "# #행렬 변환\n",
    "# R_matrix = limited_df.groupBy(\"ISBN\").pivot(\"User-ID\").sum(\"Book-Rating\")\n",
    "\n",
    "# #MLLib 사용 - 대규모 dataset이기 때문에 분산환경에서 SVD 진행해야함\n",
    "\n",
    "# #R.matrix -> RDD로 변환\n",
    "# rows = R_matrix.rdd.map(lambda row: Vectors.dense(row[1:]))\n",
    "\n",
    "# # 행렬 객체 생성\n",
    "# mat = RowMatrix(rows)\n",
    "\n",
    "# k = 50\n",
    "# # SVD 수행\n",
    "# svd = mat.computeSVD(k, computeU=True)\n",
    "# U = svd.U       # U 행렬\n",
    "# s = svd.s       # Sigma 행렬의 대각 원소\n",
    "# V = svd.V       # V 행렬"
   ]
  },
  {
   "cell_type": "code",
   "execution_count": 2,
   "id": "9abdd508",
   "metadata": {},
   "outputs": [
    {
     "name": "stdout",
     "output_type": "stream",
     "text": [
      "   User-ID        ISBN  Book-Rating\n",
      "0   276726  0155061224            5\n",
      "1   276729  052165615X            3\n",
      "2   276729  0521795028            6\n",
      "3   276744  038550120X            7\n",
      "4   276747  0060517794            9\n"
     ]
    }
   ],
   "source": [
    "df = pd.read_csv(\"Filtered_Ratings_NoZero.csv\")\n",
    "\n",
    "print(df.head())"
   ]
  },
  {
   "cell_type": "code",
   "execution_count": 20,
   "id": "9394cd10",
   "metadata": {},
   "outputs": [
    {
     "name": "stdout",
     "output_type": "stream",
     "text": [
      "     User-ID        ISBN  Book-Rating\n",
      "529   277427  002542730X           10\n",
      "530   277427  003008685X            8\n",
      "531   277427  0060006641           10\n",
      "532   277427  0060542128            7\n",
      "533   277427  0061009059            9\n",
      "행의 개수 :  103271\n"
     ]
    }
   ],
   "source": [
    "# User-ID별로 등장 횟수를 세어 Series로 저장\n",
    "user_counts = df['User-ID'].value_counts()\n",
    "\n",
    "# User-ID가 100번 이상 등장한 사용자만 남기기\n",
    "filtered_df = df[df['User-ID'].isin(user_counts[user_counts >= 100].index)]\n",
    "\n",
    "# 결과 출력\n",
    "total_rows = len(filtered_df)\n",
    "print(filtered_df.head())\n",
    "print(\"행의 개수 : \", total_rows)"
   ]
  },
  {
   "cell_type": "code",
   "execution_count": 21,
   "id": "f366b3e6",
   "metadata": {},
   "outputs": [],
   "source": [
    "sample = 80000\n",
    "df_limited = filtered_df.head(sample)\n",
    "\n",
    "R_matrix = df_limited.pivot(index=\"ISBN\", columns=\"User-ID\", values=\"Book-Rating\").fillna(0).astype(\"float32\")\n",
    "# print(R_matrix.head())"
   ]
  },
  {
   "cell_type": "code",
   "execution_count": 22,
   "id": "fb965989",
   "metadata": {},
   "outputs": [
    {
     "name": "stdout",
     "output_type": "stream",
     "text": [
      "행의 개수: 55929\n",
      "열의 개수: 324\n"
     ]
    }
   ],
   "source": [
    "num_rows = R_matrix.shape[0]  # 행의 개수\n",
    "num_cols = R_matrix.shape[1]  # 열의 개수\n",
    "\n",
    "print(f\"행의 개수: {num_rows}\")\n",
    "print(f\"열의 개수: {num_cols}\")"
   ]
  },
  {
   "cell_type": "code",
   "execution_count": 6,
   "id": "97dae7b7",
   "metadata": {},
   "outputs": [],
   "source": [
    "from scipy.sparse import csc_matrix\n",
    "from scipy.sparse.linalg import svds"
   ]
  },
  {
   "cell_type": "code",
   "execution_count": 7,
   "id": "9e340c49",
   "metadata": {},
   "outputs": [],
   "source": [
    "# 행렬을 희소 행렬 형태로 변환\n",
    "A = csc_matrix(R_matrix.values)\n",
    "\n",
    "# SVD 수행, k는 추출할 특성의 수\n",
    "u, s, vt = svds(A, k=100)"
   ]
  },
  {
   "cell_type": "code",
   "execution_count": null,
   "id": "3e3a4ce2",
   "metadata": {},
   "outputs": [],
   "source": [
    "print(\"U 행렬:\")\n",
    "print(u)"
   ]
  },
  {
   "cell_type": "code",
   "execution_count": null,
   "id": "172363b3",
   "metadata": {},
   "outputs": [],
   "source": [
    "print(\"S 행렬 : \")\n",
    "print(s)"
   ]
  },
  {
   "cell_type": "code",
   "execution_count": null,
   "id": "b97fdd0c",
   "metadata": {},
   "outputs": [],
   "source": [
    "print(\"Vt 행렬 : \")\n",
    "print(vt)"
   ]
  },
  {
   "cell_type": "code",
   "execution_count": 8,
   "id": "668c8c2a",
   "metadata": {},
   "outputs": [
    {
     "name": "stdout",
     "output_type": "stream",
     "text": [
      "복원된 데이터:\n",
      "[[ 3.11993454e-02 -9.59490426e-03 -7.47691840e-04 ...  2.53759115e-03\n",
      "   6.19416684e-02  9.04379599e-03]\n",
      " [ 2.26132572e-04 -7.70963728e-04 -9.33469273e-03 ... -1.08570477e-03\n",
      "  -2.07405724e-02  1.09242126e-02]\n",
      " [ 1.50755048e-04 -5.13976440e-04 -6.22312445e-03 ... -7.23795907e-04\n",
      "  -1.38270445e-02  7.28280842e-03]\n",
      " ...\n",
      " [ 2.55859061e-03 -2.98895920e-05  9.55221418e-04 ... -1.75514084e-03\n",
      "   6.47462672e-03  1.57948249e-04]\n",
      " [ 2.72663776e-02  1.38000632e-02 -6.82903677e-02 ...  3.26084159e-02\n",
      "   6.47109672e-02 -2.87385727e-03]\n",
      " [ 8.72747228e-03 -1.86603330e-02 -5.06761717e-03 ... -4.66174679e-04\n",
      "   5.39789684e-02  9.46346391e-03]]\n"
     ]
    }
   ],
   "source": [
    "# 데이터 복원\n",
    "# np.diag() : 특이값들을 대각 행렬로 나타내고, 상위 k개의 특이값만 남기고 나머지는 0으로 만듦\n",
    "reconstructed_data = np.dot(np.dot(u, np.diag(s)), vt)\n",
    "print(\"복원된 데이터:\")\n",
    "print(reconstructed_data)"
   ]
  },
  {
   "cell_type": "code",
   "execution_count": null,
   "id": "65b0bc69",
   "metadata": {},
   "outputs": [],
   "source": []
  },
  {
   "cell_type": "code",
   "execution_count": null,
   "id": "090c830b",
   "metadata": {},
   "outputs": [],
   "source": []
  },
  {
   "cell_type": "code",
   "execution_count": 7,
   "id": "19621434",
   "metadata": {},
   "outputs": [
    {
     "name": "stdout",
     "output_type": "stream",
     "text": [
      "Error :  1899.1826\n"
     ]
    }
   ],
   "source": [
    "# error = np.linalg.norm(R_matrix - reconstructed_data)\n",
    "# print(\"Error : \", error)"
   ]
  },
  {
   "cell_type": "code",
   "execution_count": 9,
   "id": "98497967",
   "metadata": {},
   "outputs": [
    {
     "ename": "KeyboardInterrupt",
     "evalue": "",
     "output_type": "error",
     "traceback": [
      "\u001b[1;31m---------------------------------------------------------------------------\u001b[0m",
      "\u001b[1;31mKeyboardInterrupt\u001b[0m                         Traceback (most recent call last)",
      "\u001b[1;32m~\\AppData\\Local\\Temp/ipykernel_28816/2073426558.py\u001b[0m in \u001b[0;36m<module>\u001b[1;34m\u001b[0m\n\u001b[0;32m      4\u001b[0m \u001b[1;32mfor\u001b[0m \u001b[0muser_idx\u001b[0m\u001b[1;33m,\u001b[0m \u001b[0muser_row\u001b[0m \u001b[1;32min\u001b[0m \u001b[0menumerate\u001b[0m\u001b[1;33m(\u001b[0m\u001b[0mR_matrix\u001b[0m\u001b[1;33m.\u001b[0m\u001b[0mindex\u001b[0m\u001b[1;33m)\u001b[0m\u001b[1;33m:\u001b[0m\u001b[1;33m\u001b[0m\u001b[1;33m\u001b[0m\u001b[0m\n\u001b[0;32m      5\u001b[0m     \u001b[1;32mfor\u001b[0m \u001b[0mbook_idx\u001b[0m\u001b[1;33m,\u001b[0m \u001b[0mbook_isbn\u001b[0m \u001b[1;32min\u001b[0m \u001b[0menumerate\u001b[0m\u001b[1;33m(\u001b[0m\u001b[0mR_matrix\u001b[0m\u001b[1;33m.\u001b[0m\u001b[0mcolumns\u001b[0m\u001b[1;33m)\u001b[0m\u001b[1;33m:\u001b[0m\u001b[1;33m\u001b[0m\u001b[1;33m\u001b[0m\u001b[0m\n\u001b[1;32m----> 6\u001b[1;33m         \u001b[0mrating\u001b[0m \u001b[1;33m=\u001b[0m \u001b[0mR_matrix\u001b[0m\u001b[1;33m.\u001b[0m\u001b[0miloc\u001b[0m\u001b[1;33m[\u001b[0m\u001b[0muser_idx\u001b[0m\u001b[1;33m,\u001b[0m \u001b[0mbook_idx\u001b[0m\u001b[1;33m]\u001b[0m\u001b[1;33m\u001b[0m\u001b[1;33m\u001b[0m\u001b[0m\n\u001b[0m\u001b[0;32m      7\u001b[0m         \u001b[1;32mif\u001b[0m \u001b[0mrating\u001b[0m \u001b[1;33m!=\u001b[0m \u001b[1;36m0\u001b[0m\u001b[1;33m:\u001b[0m\u001b[1;33m\u001b[0m\u001b[1;33m\u001b[0m\u001b[0m\n\u001b[0;32m      8\u001b[0m             \u001b[0mnon_zero_ratings\u001b[0m\u001b[1;33m.\u001b[0m\u001b[0mappend\u001b[0m\u001b[1;33m(\u001b[0m\u001b[1;33m(\u001b[0m\u001b[0muser_idx\u001b[0m\u001b[1;33m,\u001b[0m \u001b[0mbook_idx\u001b[0m\u001b[1;33m,\u001b[0m \u001b[0mrating\u001b[0m\u001b[1;33m)\u001b[0m\u001b[1;33m)\u001b[0m\u001b[1;33m\u001b[0m\u001b[1;33m\u001b[0m\u001b[0m\n",
      "\u001b[1;31mKeyboardInterrupt\u001b[0m: "
     ]
    }
   ],
   "source": [
    "# R_matrix에서 rating이 0이 아닌 (userid, isbn, rating) 50개 뽑아냄\n",
    "non_zero_ratings = []\n",
    "# Iterate through the R_matrix\n",
    "for user_idx, user_row in enumerate(R_matrix.index):\n",
    "    for book_idx, book_isbn in enumerate(R_matrix.columns):\n",
    "        rating = R_matrix.iloc[user_idx, book_idx]\n",
    "        if rating != 0:\n",
    "            non_zero_ratings.append((user_idx, book_idx, rating))\n",
    "            \n",
    "\n",
    "\n",
    "# Display the non-zero ratings\n",
    "# for user_idx, book_idx, rating in non_zero_ratings:\n",
    "#     user_id = R_matrix.index[user_idx]\n",
    "#     book_isbn = R_matrix.columns[book_idx]\n",
    "#     print(\"User-ID:\", user_id)\n",
    "#     print(\"ISBN:\", book_isbn)\n",
    "#     print(\"Rating:\", rating)\n",
    "#     print(\"-----------------------------\")"
   ]
  },
  {
   "cell_type": "code",
   "execution_count": 35,
   "id": "bbbb3cf4",
   "metadata": {},
   "outputs": [],
   "source": [
    "# 실제 값과 예측값 비교하고 error 평균 출력 (error = 기존 값 - 예측 값)\n",
    "def compare_ratings(non_zero_ratings, reconstructed_data):\n",
    "    error_sum = 0\n",
    "    for user_idx, book_idx, rating in non_zero_ratings:\n",
    "        user_id = R_matrix.index[user_idx]\n",
    "        book_isbn = R_matrix.columns[book_idx]\n",
    "        original_rating = rating\n",
    "        estimated_rating = reconstructed_data[user_idx, book_idx]\n",
    "        error_sum += abs(original_rating - estimated_rating)\n",
    "        print(\"User-ID:\", user_id)\n",
    "        print(\"ISBN:\", book_isbn)\n",
    "        print(\"original_rating:\", original_rating)\n",
    "        print(\"estimated_rating:\", estimated_rating)\n",
    "        print(\"----------------------------------------------------------\")\n",
    "    return (error_sum/len(non_zero_ratings))"
   ]
  },
  {
   "cell_type": "code",
   "execution_count": null,
   "id": "8d3ac35f",
   "metadata": {},
   "outputs": [],
   "source": [
    "# 기존 matrix에서 상위 8만개 행에 대해서 svd 진행\n",
    "error = compare_ratings(non_zero_ratings, reconstructed_data)\n",
    "print(\"평균 에러 값: \", error)"
   ]
  },
  {
   "cell_type": "code",
   "execution_count": 43,
   "id": "cff704b9",
   "metadata": {},
   "outputs": [
    {
     "name": "stdout",
     "output_type": "stream",
     "text": [
      "User-ID: 0000913154\n",
      "ISBN: 171118\n",
      "original_rating: 8.0\n",
      "estimated_rating: 7.964249\n",
      "----------------------------------------------------------\n",
      "User-ID: 0001046438\n",
      "ISBN: 23902\n",
      "original_rating: 9.0\n",
      "estimated_rating: 8.991164\n",
      "----------------------------------------------------------\n",
      "User-ID: 000104687X\n",
      "ISBN: 23902\n",
      "original_rating: 6.0\n",
      "estimated_rating: 5.9941087\n",
      "----------------------------------------------------------\n",
      "User-ID: 0001047213\n",
      "ISBN: 23902\n",
      "original_rating: 9.0\n",
      "estimated_rating: 8.991164\n",
      "----------------------------------------------------------\n",
      "User-ID: 0001047973\n",
      "ISBN: 23902\n",
      "original_rating: 9.0\n",
      "estimated_rating: 8.991164\n",
      "----------------------------------------------------------\n",
      "User-ID: 000104799X\n",
      "ISBN: 166596\n",
      "original_rating: 8.0\n",
      "estimated_rating: 0.012464575\n",
      "----------------------------------------------------------\n",
      "User-ID: 0001048082\n",
      "ISBN: 23902\n",
      "original_rating: 8.0\n",
      "estimated_rating: 7.9955406\n",
      "----------------------------------------------------------\n",
      "User-ID: 0001048082\n",
      "ISBN: 109901\n",
      "original_rating: 8.0\n",
      "estimated_rating: 0.15357843\n",
      "----------------------------------------------------------\n",
      "User-ID: 0001053736\n",
      "ISBN: 189835\n",
      "original_rating: 5.0\n",
      "estimated_rating: 4.9917855\n",
      "----------------------------------------------------------\n",
      "User-ID: 0001053744\n",
      "ISBN: 189835\n",
      "original_rating: 5.0\n",
      "estimated_rating: 4.9917855\n",
      "----------------------------------------------------------\n",
      "User-ID: 0001055607\n",
      "ISBN: 85526\n",
      "original_rating: 8.0\n",
      "estimated_rating: 0.06106242\n",
      "----------------------------------------------------------\n",
      "User-ID: 0001056107\n",
      "ISBN: 93047\n",
      "original_rating: 8.0\n",
      "estimated_rating: 7.9294276\n",
      "----------------------------------------------------------\n",
      "User-ID: 0001056107\n",
      "ISBN: 95359\n",
      "original_rating: 8.0\n",
      "estimated_rating: 7.7987347\n",
      "----------------------------------------------------------\n",
      "User-ID: 0001845039\n",
      "ISBN: 56399\n",
      "original_rating: 10.0\n",
      "estimated_rating: 9.994105\n",
      "----------------------------------------------------------\n",
      "User-ID: 0001944711\n",
      "ISBN: 11676\n",
      "original_rating: 6.0\n",
      "estimated_rating: 5.9977646\n",
      "----------------------------------------------------------\n",
      "User-ID: 0001952803\n",
      "ISBN: 69078\n",
      "original_rating: 7.0\n",
      "estimated_rating: 6.924062\n",
      "----------------------------------------------------------\n",
      "User-ID: 0001953877\n",
      "ISBN: 63714\n",
      "original_rating: 10.0\n",
      "estimated_rating: 9.99901\n",
      "----------------------------------------------------------\n",
      "User-ID: 0002000547\n",
      "ISBN: 101606\n",
      "original_rating: 8.0\n",
      "estimated_rating: 0.020322865\n",
      "----------------------------------------------------------\n",
      "User-ID: 0002005018\n",
      "ISBN: 11676\n",
      "original_rating: 8.0\n",
      "estimated_rating: 7.9970193\n",
      "----------------------------------------------------------\n",
      "User-ID: 0002005050\n",
      "ISBN: 36907\n",
      "original_rating: 10.0\n",
      "estimated_rating: 0.13920005\n",
      "----------------------------------------------------------\n",
      "User-ID: 0002005557\n",
      "ISBN: 85526\n",
      "original_rating: 7.0\n",
      "estimated_rating: 0.053429622\n",
      "----------------------------------------------------------\n",
      "User-ID: 0002006588\n",
      "ISBN: 26583\n",
      "original_rating: 8.0\n",
      "estimated_rating: 0.0020721762\n",
      "----------------------------------------------------------\n",
      "User-ID: 0002115328\n",
      "ISBN: 120565\n",
      "original_rating: 9.0\n",
      "estimated_rating: 0.004012498\n",
      "----------------------------------------------------------\n",
      "User-ID: 0002116286\n",
      "ISBN: 101606\n",
      "original_rating: 6.0\n",
      "estimated_rating: 0.015242149\n",
      "----------------------------------------------------------\n",
      "User-ID: 0002118580\n",
      "ISBN: 11676\n",
      "original_rating: 9.0\n",
      "estimated_rating: 8.996647\n",
      "----------------------------------------------------------\n",
      "User-ID: 0002154900\n",
      "ISBN: 193560\n",
      "original_rating: 8.0\n",
      "estimated_rating: 0.0029260842\n",
      "----------------------------------------------------------\n",
      "User-ID: 0002163713\n",
      "ISBN: 23902\n",
      "original_rating: 8.0\n",
      "estimated_rating: 7.9921455\n",
      "----------------------------------------------------------\n",
      "User-ID: 0002176181\n",
      "ISBN: 63714\n",
      "original_rating: 9.0\n",
      "estimated_rating: 8.99911\n",
      "----------------------------------------------------------\n",
      "User-ID: 0002176432\n",
      "ISBN: 11676\n",
      "original_rating: 5.0\n",
      "estimated_rating: 4.998137\n",
      "----------------------------------------------------------\n",
      "User-ID: 0002179695\n",
      "ISBN: 159506\n",
      "original_rating: 9.0\n",
      "estimated_rating: 0.053134814\n",
      "----------------------------------------------------------\n",
      "User-ID: 0002181924\n",
      "ISBN: 189835\n",
      "original_rating: 5.0\n",
      "estimated_rating: 4.9917855\n",
      "----------------------------------------------------------\n",
      "User-ID: 0002184974\n",
      "ISBN: 11676\n",
      "original_rating: 7.0\n",
      "estimated_rating: 7.0016413\n",
      "----------------------------------------------------------\n",
      "User-ID: 0002184974\n",
      "ISBN: 180651\n",
      "original_rating: 8.0\n",
      "estimated_rating: 0.023162145\n",
      "----------------------------------------------------------\n",
      "User-ID: 0002190915\n",
      "ISBN: 63714\n",
      "original_rating: 10.0\n",
      "estimated_rating: 9.999012\n",
      "----------------------------------------------------------\n",
      "User-ID: 0002197154\n",
      "ISBN: 193560\n",
      "original_rating: 7.0\n",
      "estimated_rating: 0.002560324\n",
      "----------------------------------------------------------\n",
      "User-ID: 0002228394\n",
      "ISBN: 120565\n",
      "original_rating: 9.0\n",
      "estimated_rating: 0.004012498\n",
      "----------------------------------------------------------\n",
      "User-ID: 000223257X\n",
      "ISBN: 30511\n",
      "original_rating: 7.0\n",
      "estimated_rating: 0.031160343\n",
      "----------------------------------------------------------\n",
      "User-ID: 0002233509\n",
      "ISBN: 189334\n",
      "original_rating: 10.0\n",
      "estimated_rating: 9.988406\n",
      "----------------------------------------------------------\n",
      "User-ID: 0002239183\n",
      "ISBN: 189334\n",
      "original_rating: 10.0\n",
      "estimated_rating: 9.988406\n",
      "----------------------------------------------------------\n",
      "User-ID: 0002240114\n",
      "ISBN: 166596\n",
      "original_rating: 9.0\n",
      "estimated_rating: 0.014022646\n",
      "----------------------------------------------------------\n",
      "User-ID: 0002241358\n",
      "ISBN: 23902\n",
      "original_rating: 8.0\n",
      "estimated_rating: 7.9921455\n",
      "----------------------------------------------------------\n",
      "User-ID: 0002244098\n",
      "ISBN: 6242\n",
      "original_rating: 5.0\n",
      "estimated_rating: 0.02115274\n",
      "----------------------------------------------------------\n",
      "User-ID: 0002245728\n",
      "ISBN: 101606\n",
      "original_rating: 7.0\n",
      "estimated_rating: 0.017782506\n",
      "----------------------------------------------------------\n",
      "User-ID: 000225056X\n",
      "ISBN: 101851\n",
      "original_rating: 10.0\n",
      "estimated_rating: 9.960434\n",
      "----------------------------------------------------------\n",
      "User-ID: 0002250810\n",
      "ISBN: 11676\n",
      "original_rating: 7.0\n",
      "estimated_rating: 6.997392\n",
      "----------------------------------------------------------\n",
      "User-ID: 0002251000\n",
      "ISBN: 95010\n",
      "original_rating: 7.0\n",
      "estimated_rating: 0.0010174196\n",
      "----------------------------------------------------------\n",
      "User-ID: 0002251485\n",
      "ISBN: 11676\n",
      "original_rating: 8.0\n",
      "estimated_rating: 7.997019\n",
      "----------------------------------------------------------\n",
      "User-ID: 0002251760\n",
      "ISBN: 37712\n",
      "original_rating: 10.0\n",
      "estimated_rating: 0.43533763\n",
      "----------------------------------------------------------\n",
      "User-ID: 0002251760\n",
      "ISBN: 123883\n",
      "original_rating: 5.0\n",
      "estimated_rating: 0.44398203\n",
      "----------------------------------------------------------\n",
      "User-ID: 0002252341\n",
      "ISBN: 94853\n",
      "original_rating: 9.0\n",
      "estimated_rating: 0.0056661796\n",
      "----------------------------------------------------------\n",
      "평균 에러 값:  3.420652275085449\n"
     ]
    }
   ],
   "source": [
    "# 평가 100번 이상 한 유저(10만개 행) 중 8만개 행 뽑아서 진행\n",
    "# k = 50\n",
    "error = compare_ratings(non_zero_ratings, reconstructed_data)\n",
    "print(\"평균 에러 값: \", error)"
   ]
  },
  {
   "cell_type": "code",
   "execution_count": 46,
   "id": "41564cdc",
   "metadata": {},
   "outputs": [
    {
     "name": "stdout",
     "output_type": "stream",
     "text": [
      "User-ID: 0000913154\n",
      "ISBN: 171118\n",
      "original_rating: 8.0\n",
      "estimated_rating: 7.971637\n",
      "----------------------------------------------------------\n",
      "User-ID: 0001046438\n",
      "ISBN: 23902\n",
      "original_rating: 9.0\n",
      "estimated_rating: 8.992366\n",
      "----------------------------------------------------------\n",
      "User-ID: 000104687X\n",
      "ISBN: 23902\n",
      "original_rating: 6.0\n",
      "estimated_rating: 5.994912\n",
      "----------------------------------------------------------\n",
      "User-ID: 0001047213\n",
      "ISBN: 23902\n",
      "original_rating: 9.0\n",
      "estimated_rating: 8.992366\n",
      "----------------------------------------------------------\n",
      "User-ID: 0001047973\n",
      "ISBN: 23902\n",
      "original_rating: 9.0\n",
      "estimated_rating: 8.992366\n",
      "----------------------------------------------------------\n",
      "User-ID: 000104799X\n",
      "ISBN: 166596\n",
      "original_rating: 8.0\n",
      "estimated_rating: 0.025527962\n",
      "----------------------------------------------------------\n",
      "User-ID: 0001048082\n",
      "ISBN: 23902\n",
      "original_rating: 8.0\n",
      "estimated_rating: 7.996132\n",
      "----------------------------------------------------------\n",
      "User-ID: 0001048082\n",
      "ISBN: 109901\n",
      "original_rating: 8.0\n",
      "estimated_rating: 0.24605456\n",
      "----------------------------------------------------------\n",
      "User-ID: 0001053736\n",
      "ISBN: 189835\n",
      "original_rating: 5.0\n",
      "estimated_rating: 4.9928427\n",
      "----------------------------------------------------------\n",
      "User-ID: 0001053744\n",
      "ISBN: 189835\n",
      "original_rating: 5.0\n",
      "estimated_rating: 4.9928427\n",
      "----------------------------------------------------------\n",
      "User-ID: 0001055607\n",
      "ISBN: 85526\n",
      "original_rating: 8.0\n",
      "estimated_rating: 0.1262973\n",
      "----------------------------------------------------------\n",
      "User-ID: 0001056107\n",
      "ISBN: 93047\n",
      "original_rating: 8.0\n",
      "estimated_rating: 7.955711\n",
      "----------------------------------------------------------\n",
      "User-ID: 0001056107\n",
      "ISBN: 95359\n",
      "original_rating: 8.0\n",
      "estimated_rating: 7.920994\n",
      "----------------------------------------------------------\n",
      "User-ID: 0001845039\n",
      "ISBN: 56399\n",
      "original_rating: 10.0\n",
      "estimated_rating: 9.994776\n",
      "----------------------------------------------------------\n",
      "User-ID: 0001944711\n",
      "ISBN: 11676\n",
      "original_rating: 6.0\n",
      "estimated_rating: 5.9982204\n",
      "----------------------------------------------------------\n",
      "User-ID: 0001952803\n",
      "ISBN: 69078\n",
      "original_rating: 7.0\n",
      "estimated_rating: 6.9560204\n",
      "----------------------------------------------------------\n",
      "User-ID: 0001953877\n",
      "ISBN: 63714\n",
      "original_rating: 10.0\n",
      "estimated_rating: 9.999248\n",
      "----------------------------------------------------------\n",
      "User-ID: 0002000547\n",
      "ISBN: 101606\n",
      "original_rating: 8.0\n",
      "estimated_rating: 0.0547797\n",
      "----------------------------------------------------------\n",
      "User-ID: 0002005018\n",
      "ISBN: 11676\n",
      "original_rating: 8.0\n",
      "estimated_rating: 7.9976273\n",
      "----------------------------------------------------------\n",
      "User-ID: 0002005050\n",
      "ISBN: 36907\n",
      "original_rating: 10.0\n",
      "estimated_rating: 0.22673476\n",
      "----------------------------------------------------------\n",
      "User-ID: 0002005557\n",
      "ISBN: 85526\n",
      "original_rating: 7.0\n",
      "estimated_rating: 0.1105101\n",
      "----------------------------------------------------------\n",
      "User-ID: 0002006588\n",
      "ISBN: 26583\n",
      "original_rating: 8.0\n",
      "estimated_rating: 0.0075017847\n",
      "----------------------------------------------------------\n",
      "User-ID: 0002115328\n",
      "ISBN: 120565\n",
      "original_rating: 9.0\n",
      "estimated_rating: 0.027498368\n",
      "----------------------------------------------------------\n",
      "User-ID: 0002116286\n",
      "ISBN: 101606\n",
      "original_rating: 6.0\n",
      "estimated_rating: 0.041084774\n",
      "----------------------------------------------------------\n",
      "User-ID: 0002118580\n",
      "ISBN: 11676\n",
      "original_rating: 9.0\n",
      "estimated_rating: 8.997331\n",
      "----------------------------------------------------------\n",
      "User-ID: 0002154900\n",
      "ISBN: 193560\n",
      "original_rating: 8.0\n",
      "estimated_rating: 0.055108797\n",
      "----------------------------------------------------------\n",
      "User-ID: 0002163713\n",
      "ISBN: 23902\n",
      "original_rating: 8.0\n",
      "estimated_rating: 7.993215\n",
      "----------------------------------------------------------\n",
      "User-ID: 0002176181\n",
      "ISBN: 63714\n",
      "original_rating: 9.0\n",
      "estimated_rating: 8.999324\n",
      "----------------------------------------------------------\n",
      "User-ID: 0002176432\n",
      "ISBN: 11676\n",
      "original_rating: 5.0\n",
      "estimated_rating: 4.998517\n",
      "----------------------------------------------------------\n",
      "User-ID: 0002179695\n",
      "ISBN: 159506\n",
      "original_rating: 9.0\n",
      "estimated_rating: 0.09355642\n",
      "----------------------------------------------------------\n",
      "User-ID: 0002181924\n",
      "ISBN: 189835\n",
      "original_rating: 5.0\n",
      "estimated_rating: 4.9928427\n",
      "----------------------------------------------------------\n",
      "User-ID: 0002184974\n",
      "ISBN: 11676\n",
      "original_rating: 7.0\n",
      "estimated_rating: 7.0007286\n",
      "----------------------------------------------------------\n",
      "User-ID: 0002184974\n",
      "ISBN: 180651\n",
      "original_rating: 8.0\n",
      "estimated_rating: 0.04439843\n",
      "----------------------------------------------------------\n",
      "User-ID: 0002190915\n",
      "ISBN: 63714\n",
      "original_rating: 10.0\n",
      "estimated_rating: 9.999248\n",
      "----------------------------------------------------------\n",
      "User-ID: 0002197154\n",
      "ISBN: 193560\n",
      "original_rating: 7.0\n",
      "estimated_rating: 0.04822019\n",
      "----------------------------------------------------------\n",
      "User-ID: 0002228394\n",
      "ISBN: 120565\n",
      "original_rating: 9.0\n",
      "estimated_rating: 0.027498368\n",
      "----------------------------------------------------------\n",
      "User-ID: 000223257X\n",
      "ISBN: 30511\n",
      "original_rating: 7.0\n",
      "estimated_rating: 0.074821874\n",
      "----------------------------------------------------------\n",
      "User-ID: 0002233509\n",
      "ISBN: 189334\n",
      "original_rating: 10.0\n",
      "estimated_rating: 9.991033\n",
      "----------------------------------------------------------\n",
      "User-ID: 0002239183\n",
      "ISBN: 189334\n",
      "original_rating: 10.0\n",
      "estimated_rating: 9.991033\n",
      "----------------------------------------------------------\n",
      "User-ID: 0002240114\n",
      "ISBN: 166596\n",
      "original_rating: 9.0\n",
      "estimated_rating: 0.02871896\n",
      "----------------------------------------------------------\n",
      "User-ID: 0002241358\n",
      "ISBN: 23902\n",
      "original_rating: 8.0\n",
      "estimated_rating: 7.993215\n",
      "----------------------------------------------------------\n",
      "User-ID: 0002244098\n",
      "ISBN: 6242\n",
      "original_rating: 5.0\n",
      "estimated_rating: 0.04054681\n",
      "----------------------------------------------------------\n",
      "User-ID: 0002245728\n",
      "ISBN: 101606\n",
      "original_rating: 7.0\n",
      "estimated_rating: 0.047932245\n",
      "----------------------------------------------------------\n",
      "User-ID: 000225056X\n",
      "ISBN: 101851\n",
      "original_rating: 10.0\n",
      "estimated_rating: 9.9748535\n",
      "----------------------------------------------------------\n",
      "User-ID: 0002250810\n",
      "ISBN: 11676\n",
      "original_rating: 7.0\n",
      "estimated_rating: 6.997924\n",
      "----------------------------------------------------------\n",
      "User-ID: 0002251000\n",
      "ISBN: 95010\n",
      "original_rating: 7.0\n",
      "estimated_rating: 0.0018256276\n",
      "----------------------------------------------------------\n",
      "User-ID: 0002251485\n",
      "ISBN: 11676\n",
      "original_rating: 8.0\n",
      "estimated_rating: 7.9976273\n",
      "----------------------------------------------------------\n",
      "User-ID: 0002251760\n",
      "ISBN: 37712\n",
      "original_rating: 10.0\n",
      "estimated_rating: 1.0227585\n",
      "----------------------------------------------------------\n",
      "User-ID: 0002251760\n",
      "ISBN: 123883\n",
      "original_rating: 5.0\n",
      "estimated_rating: 0.49739248\n",
      "----------------------------------------------------------\n",
      "User-ID: 0002252341\n",
      "ISBN: 94853\n",
      "original_rating: 9.0\n",
      "estimated_rating: 0.017412586\n",
      "----------------------------------------------------------\n",
      "평균 에러 값:  3.3892065334320067\n"
     ]
    }
   ],
   "source": [
    "# 평가 100번 이상 한 유저(10만개 행) 중 8만개 행 뽑아서 진행\n",
    "# k = 75\n",
    "error = compare_ratings(non_zero_ratings, reconstructed_data)\n",
    "print(\"평균 에러 값: \", error)"
   ]
  },
  {
   "cell_type": "code",
   "execution_count": 61,
   "id": "cc312925",
   "metadata": {},
   "outputs": [
    {
     "name": "stdout",
     "output_type": "stream",
     "text": [
      "평균 에러 값:  1842.0021\n"
     ]
    }
   ],
   "source": [
    "# 평가 100번 이상 한 유저(10만개 행) 샘플 안뽑고 그대로 진행\n",
    "# k = 75\n",
    "reconstruction_error = np.linalg.norm(R_matrix - reconstructed_data)\n",
    "print(\"평균 에러 값: \", reconstruction_error)"
   ]
  },
  {
   "cell_type": "code",
   "execution_count": 66,
   "id": "e89c104f",
   "metadata": {},
   "outputs": [
    {
     "name": "stdout",
     "output_type": "stream",
     "text": [
      "평균 에러 값:  1467.6725\n"
     ]
    }
   ],
   "source": [
    "# 평가 100번 이상 한 유저(10만개 행) 중 8만개 행 뽑아서 진행\n",
    "# k = 75\n",
    "reconstruction_error = np.linalg.norm(R_matrix - reconstructed_data)\n",
    "print(\"평균 에러 값: \", reconstruction_error)"
   ]
  },
  {
   "cell_type": "code",
   "execution_count": 69,
   "id": "826c69a7",
   "metadata": {},
   "outputs": [
    {
     "name": "stdout",
     "output_type": "stream",
     "text": [
      "평균 에러 값:  1599.739\n"
     ]
    }
   ],
   "source": [
    "# 평가 100번 이상 한 유저(10만개 행) 중 8만개 행 뽑아서 진행\n",
    "# k = 50\n",
    "reconstruction_error = np.linalg.norm(R_matrix - reconstructed_data)\n",
    "print(\"평균 에러 값: \", reconstruction_error)"
   ]
  },
  {
   "cell_type": "code",
   "execution_count": 74,
   "id": "47bb752d",
   "metadata": {},
   "outputs": [
    {
     "name": "stdout",
     "output_type": "stream",
     "text": [
      "평균 에러 값:  1899.1825\n"
     ]
    }
   ],
   "source": [
    "# 그냥 8만개 행 뽑아서 진행\n",
    "# k = 50\n",
    "reconstruction_error = np.linalg.norm(R_matrix - reconstructed_data)\n",
    "print(\"평균 에러 값: \", reconstruction_error)"
   ]
  },
  {
   "cell_type": "code",
   "execution_count": 80,
   "id": "827838b3",
   "metadata": {},
   "outputs": [
    {
     "name": "stdout",
     "output_type": "stream",
     "text": [
      "에러 값:  989.6968\n"
     ]
    }
   ],
   "source": [
    "#평가 200번 이상 한 유저 전부(58174 행)\n",
    "# k = 50\n",
    "reconstruction_error = np.linalg.norm(R_matrix - reconstructed_data)\n",
    "print(\"에러 값: \", reconstruction_error)"
   ]
  },
  {
   "cell_type": "code",
   "execution_count": 83,
   "id": "74814d9c",
   "metadata": {},
   "outputs": [
    {
     "name": "stdout",
     "output_type": "stream",
     "text": [
      "에러 값:  421.18137\n"
     ]
    }
   ],
   "source": [
    "#평가 200번 이상 한 유저 전부(58174 행)\n",
    "# k = 100\n",
    "reconstruction_error = np.linalg.norm(R_matrix - reconstructed_data)\n",
    "print(\"에러 값: \", reconstruction_error)"
   ]
  },
  {
   "cell_type": "code",
   "execution_count": 10,
   "id": "8ad9dae2",
   "metadata": {},
   "outputs": [
    {
     "name": "stdout",
     "output_type": "stream",
     "text": [
      "에러 값:  1347.1295\n"
     ]
    }
   ],
   "source": [
    "# 평가 100번 8만개 k = 100\n",
    "reconstruction_error = np.linalg.norm(R_matrix - reconstructed_data)\n",
    "print(\"에러 값: \", reconstruction_error)"
   ]
  },
  {
   "cell_type": "code",
   "execution_count": null,
   "id": "e0810512",
   "metadata": {},
   "outputs": [],
   "source": []
  }
 ],
 "metadata": {
  "kernelspec": {
   "display_name": "Python 3 (ipykernel)",
   "language": "python",
   "name": "python3"
  },
  "language_info": {
   "codemirror_mode": {
    "name": "ipython",
    "version": 3
   },
   "file_extension": ".py",
   "mimetype": "text/x-python",
   "name": "python",
   "nbconvert_exporter": "python",
   "pygments_lexer": "ipython3",
   "version": "3.7.3"
  },
  "toc": {
   "base_numbering": 1,
   "nav_menu": {},
   "number_sections": true,
   "sideBar": true,
   "skip_h1_title": false,
   "title_cell": "Table of Contents",
   "title_sidebar": "Contents",
   "toc_cell": false,
   "toc_position": {},
   "toc_section_display": true,
   "toc_window_display": false
  },
  "varInspector": {
   "cols": {
    "lenName": 16,
    "lenType": 16,
    "lenVar": 40
   },
   "kernels_config": {
    "python": {
     "delete_cmd_postfix": "",
     "delete_cmd_prefix": "del ",
     "library": "var_list.py",
     "varRefreshCmd": "print(var_dic_list())"
    },
    "r": {
     "delete_cmd_postfix": ") ",
     "delete_cmd_prefix": "rm(",
     "library": "var_list.r",
     "varRefreshCmd": "cat(var_dic_list()) "
    }
   },
   "types_to_exclude": [
    "module",
    "function",
    "builtin_function_or_method",
    "instance",
    "_Feature"
   ],
   "window_display": false
  }
 },
 "nbformat": 4,
 "nbformat_minor": 5
}
