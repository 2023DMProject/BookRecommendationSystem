{
 "cells": [
  {
   "cell_type": "code",
   "execution_count": 1,
   "id": "411b5f4e",
   "metadata": {},
   "outputs": [],
   "source": [
    "import pandas as pd\n",
    "import matplotlib.pyplot as plt\n",
    "\n",
    "import seaborn as sns\n",
    "import gc\n",
    "\n",
    "from scipy.sparse import csc_matrix\n",
    "from scipy.sparse.linalg import svds\n",
    "from scipy.linalg import svd\n",
    "\n",
    "\n",
    "import numpy as np\n",
    "\n",
    "import time\n"
   ]
  },
  {
   "cell_type": "code",
   "execution_count": 2,
   "id": "9be55603",
   "metadata": {},
   "outputs": [
    {
     "name": "stdout",
     "output_type": "stream",
     "text": [
      "   User-ID        ISBN  Book-Rating\n",
      "0   276726  0155061224            5\n",
      "1   276729  052165615X            3\n",
      "2   276729  0521795028            6\n",
      "3   276744  038550120X            7\n",
      "4   276747  0060517794            9\n",
      "     User-ID        ISBN  Book-Rating\n",
      "529   277427  002542730X           10\n",
      "530   277427  003008685X            8\n",
      "531   277427  0060006641           10\n",
      "532   277427  0060542128            7\n",
      "533   277427  0061009059            9\n",
      "행의 개수 :  103271\n"
     ]
    }
   ],
   "source": [
    "# 데이터 불러오기\n",
    "df = pd.read_csv(\"Filtered_Ratings_NoZero.csv\")\n",
    "\n",
    "print(df.head())\n",
    "\n",
    "# User-ID별로 등장 횟수를 세어 Series로 저장\n",
    "user_counts = df['User-ID'].value_counts()\n",
    "\n",
    "# User-ID가 100번 이상 등장한 사용자만 남기기 = 100권 이상 책 평가한 유저만 남기겠다\n",
    "filtered_df = df[df['User-ID'].isin(user_counts[user_counts >= 100].index)]\n",
    "\n",
    "# 결과 출력\n",
    "total_rows = len(filtered_df)\n",
    "print(filtered_df.head())\n",
    "print(\"행의 개수 : \", total_rows) # 103271 개"
   ]
  },
  {
   "cell_type": "code",
   "execution_count": 3,
   "id": "76956302",
   "metadata": {},
   "outputs": [
    {
     "name": "stdout",
     "output_type": "stream",
     "text": [
      "User-ID     2033    2110    2276    4017    4385    5582    6242    6251    \\\n",
      "ISBN                                                                         \n",
      "0000913154     0.0     0.0     0.0     0.0     0.0     0.0     0.0     0.0   \n",
      "0001046438     0.0     0.0     0.0     0.0     0.0     0.0     0.0     0.0   \n",
      "000104687X     0.0     0.0     0.0     0.0     0.0     0.0     0.0     0.0   \n",
      "0001047213     0.0     0.0     0.0     0.0     0.0     0.0     0.0     0.0   \n",
      "0001047973     0.0     0.0     0.0     0.0     0.0     0.0     0.0     0.0   \n",
      "\n",
      "User-ID     6543    6575    ...  269566  270713  271448  271705  273113  \\\n",
      "ISBN                        ...                                           \n",
      "0000913154     0.0     0.0  ...     0.0     0.0     0.0     0.0     0.0   \n",
      "0001046438     0.0     0.0  ...     0.0     0.0     0.0     0.0     0.0   \n",
      "000104687X     0.0     0.0  ...     0.0     0.0     0.0     0.0     0.0   \n",
      "0001047213     0.0     0.0  ...     0.0     0.0     0.0     0.0     0.0   \n",
      "0001047973     0.0     0.0  ...     0.0     0.0     0.0     0.0     0.0   \n",
      "\n",
      "User-ID     274061  274301  275970  277427  278418  \n",
      "ISBN                                                \n",
      "0000913154     0.0     0.0     0.0     0.0     0.0  \n",
      "0001046438     0.0     0.0     0.0     0.0     0.0  \n",
      "000104687X     0.0     0.0     0.0     0.0     0.0  \n",
      "0001047213     0.0     0.0     0.0     0.0     0.0  \n",
      "0001047973     0.0     0.0     0.0     0.0     0.0  \n",
      "\n",
      "[5 rows x 449 columns]\n",
      "행의 개수: 66574\n",
      "열의 개수: 449\n",
      "0이 아닌 값의 갯수 :  103271\n",
      "0이 아닌 값의 비율 : 0.34548356290968274 %\n"
     ]
    }
   ],
   "source": [
    "# matrix로 변환하기\n",
    "R_matrix = filtered_df.pivot(index=\"ISBN\", columns=\"User-ID\", values=\"Book-Rating\").fillna(0).astype(\"float32\")\n",
    "print(R_matrix.head())\n",
    "\n",
    "num_rows = R_matrix.shape[0]  # 행의 개수\n",
    "num_cols = R_matrix.shape[1]  # 열의 개수\n",
    "\n",
    "print(f\"행의 개수: {num_rows}\")  # 66574개\n",
    "print(f\"열의 개수: {num_cols}\")  # 449개\n",
    "\n",
    "# R_matrix에서 0이 아닌 값의 개수\n",
    "non_zero_cnt = np.count_nonzero(R_matrix)\n",
    "print(\"0이 아닌 값의 갯수 : \", non_zero_cnt)\n",
    "print(\"0이 아닌 값의 비율 :\", non_zero_cnt * 100 / (num_rows*num_cols),\"%\")"
   ]
  },
  {
   "cell_type": "markdown",
   "id": "ec62c700",
   "metadata": {},
   "source": [
    "1. Rmatrix를 baseline predictor를 추가한 matrix로 변환 + overfitting 방지를 위해 regularization term도 추가\n",
    "2. baseline matrix 를 svd 수행\n",
    "3. 기존 값(Rmatrix에서 0이 아닌 값들)을 얼마나 예측 잘했는지 확인\n",
    "4. 다른 값 예측해보기"
   ]
  },
  {
   "cell_type": "code",
   "execution_count": 4,
   "id": "9f85f410",
   "metadata": {},
   "outputs": [
    {
     "name": "stdout",
     "output_type": "stream",
     "text": [
      "global mean =  7.8254204\n",
      "user bias =  [-7.807618  -7.8053913 -7.8120728 ... -7.8120728 -7.803164  -7.8053913]\n",
      "item bias =  [-7.8085246 -7.81261   -7.8008037 -7.804694  -7.7944202 -7.8090653\n",
      " -7.813226  -7.797259  -7.8055954 -7.800278  -7.8120246 -7.7888174\n",
      " -7.8078938 -7.8119946 -7.807473  -7.809426  -7.8128057 -7.0583205\n",
      " -7.811168  -7.807954  -7.8112884 -7.802216  -7.7999177 -7.807984\n",
      " -7.812986  -7.8100266 -7.8129406 -7.788111  -7.723026  -7.81246\n",
      " -7.8095913 -7.8112435 -7.804499  -7.8004885 -7.771573  -7.6909113\n",
      " -7.7971387 -7.809531  -7.7983856 -7.8106127 -7.8127155 -7.810132\n",
      " -7.8048296 -7.8069773 -7.810868  -7.791551  -7.7998123 -7.810207\n",
      " -7.800308  -7.8092756 -7.7833195 -7.79409   -7.7666016 -7.809516\n",
      " -7.813887  -7.807443  -7.818333  -7.810177  -7.7370853 -7.814548\n",
      " -7.8113785 -7.803823  -7.814142  -7.808029  -7.8081493 -7.8113785\n",
      " -7.802757  -7.7985506 -7.7997823 -7.790785  -7.813902  -7.8055353\n",
      " -7.8062563 -7.809441  -7.808134  -7.7962375 -7.8092155 -7.791611\n",
      " -7.812265  -7.8084197 -7.80881   -7.813046  -7.813151  -7.777071\n",
      " -7.8013296 -7.8107777 -7.808705  -7.80519   -7.8063464 -7.810943\n",
      " -7.805941  -7.7838902 -7.8122196 -7.8073378 -7.704535  -7.8057456\n",
      " -7.8114386 -7.7696657 -7.802261  -7.7659707 -7.805205  -7.802937\n",
      " -7.761269  -7.811424  -7.8114686 -7.8137817 -7.807969  -7.801495\n",
      " -7.7659407 -7.8134212 -7.789989  -7.803688  -7.807233  -7.8143377\n",
      " -7.81258   -7.8098917 -7.7935038 -7.8127904 -7.8014197 -7.813181\n",
      " -7.6898    -7.7697706 -7.7919564 -7.8103724 -7.806797  -7.7702665\n",
      " -7.7926025 -7.81255   -7.7975893 -7.811048  -7.8115287 -7.804469\n",
      " -7.806632  -7.811514  -7.813902  -7.809696  -7.775449  -7.8078485\n",
      " -7.8118443 -7.795652  -7.805415  -7.767037  -7.7991967 -7.8099365\n",
      " -7.815209  -7.8106575 -7.7686443 -7.811589  -7.809321  -7.8113337\n",
      " -7.79056   -7.809426  -7.808825  -7.8153443 -7.7552156 -7.8127756\n",
      " -7.8090353 -7.8089905 -7.8147283 -7.8013597 -7.067844  -7.810132\n",
      " -7.809516  -7.7656403 -7.804559  -7.80875   -7.75131   -7.8034625\n",
      " -7.8091407 -7.7969737 -7.8144727 -7.8040333 -7.777897  -7.8106127\n",
      " -7.8054905 -7.8119044 -7.8084044 -7.7860384 -7.8048596 -7.802952\n",
      " -7.812415  -7.8106127 -7.8017955 -7.8106575 -7.7982354 -7.789148\n",
      " -7.7853475 -7.8132863 -7.809231  -7.7705817 -7.810267  -7.8032074\n",
      " -7.8142176 -7.802982  -7.8069925 -7.814608  -7.8062415 -7.8041687\n",
      " -7.808705  -7.8095913 -7.8150587 -7.791401  -7.8097563 -7.809201\n",
      " -7.8006535 -7.8103123 -7.814743  -7.8142776 -7.8084645 -7.797499\n",
      " -7.7748027 -7.7932334 -7.8121147 -7.8049197 -7.810883  -7.8113484\n",
      " -7.806947  -7.811138  -7.8135266 -7.769936  -7.7905297 -7.8090506\n",
      " -7.8121147 -7.814488  -7.813797  -7.8106575 -7.8084497 -7.809952\n",
      " -7.809952  -7.810823  -7.799467  -7.8032975 -7.8071275 -7.80848\n",
      " -7.8092155 -7.8140974 -7.802757  -7.798851  -7.809351  -7.803808\n",
      " -7.8128057 -7.8169813 -7.8046794 -7.8127756 -7.808194  -7.5853744\n",
      " -7.7952914 -7.8011045 -7.810733  -7.7954416 -7.814578  -7.809291\n",
      " -7.810297  -7.7700562 -7.81264   -7.811859  -7.80872   -7.799422\n",
      " -7.786083  -7.81246   -7.8157797 -7.814518  -7.8143225 -7.8055806\n",
      " -7.813827  -7.8135414 -7.811108  -7.8069324 -7.8105526 -7.8091555\n",
      " -7.8064218 -7.817327  -7.808945  -7.812956  -7.8012547 -7.792302\n",
      " -7.8156147 -7.8122797 -7.810192  -7.7191205 -7.8112135 -7.7991667\n",
      " -7.8134513 -7.808074  -7.8034325 -7.7992268 -7.813992  -7.8118143\n",
      " -7.791521  -7.768479  -7.8112736 -7.808795  -7.799467  -7.8097863\n",
      " -7.8065567 -7.80869   -7.7602625 -7.8006387 -7.8097563 -7.8127456\n",
      " -7.800879  -7.807458  -7.8126554 -7.771288  -7.8106728 -7.802922\n",
      " -7.8115287 -7.8055353 -7.812205  -7.7600374 -7.6797357 -7.8098316\n",
      " -7.81246   -7.79801   -7.811829  -7.8045893 -7.8135867 -7.806647\n",
      " -7.8084044 -7.8060913 -7.8118443 -7.727427  -7.8141274 -7.800849\n",
      " -7.8144126 -7.811769  -7.7592263 -7.8086    -7.810387  -7.8057756\n",
      " -7.8110633 -7.81261   -7.8120246 -7.8000226 -7.8051147 -7.8107777\n",
      " -7.8142176 -7.8026366 -7.808164  -7.7822833 -7.8114085 -7.8005185\n",
      " -7.8070226 -7.8149686 -7.804694  -7.814428  -7.805701  -7.8090053\n",
      " -7.8093357 -7.80516   -7.8132563 -7.815329  -7.811574  -7.80501\n",
      " -7.8107476 -7.8130608 -7.8071876 -7.7932034 -7.802351  -7.8106275\n",
      " -7.800353  -7.807548  -7.807293  -7.8050547 -7.803162  -7.805235\n",
      " -7.8130007 -7.807473  -7.8069773 -7.811078  -7.8128357 -7.786053\n",
      " -7.8025165 -7.8083596 -7.811769  -7.8113785 -7.809321  -7.7769055\n",
      " -7.702748  -7.8047094 -7.81255   -7.8121448 -7.791536  -7.807969\n",
      " -7.8078184 -7.810222  -7.8081794 -7.805791  -7.7970185 -7.8071275\n",
      " -7.8065567 -7.810177  -7.8150287 -7.8113785 -7.813226  -7.80166\n",
      " -7.78359   -7.8049645 -7.807578  -7.8097715 -7.8047843 -7.8117843\n",
      " -7.80507   -7.8072476 -7.808164  -7.8024263 -7.807428  -7.7129016\n",
      " -7.7795644 -7.811514  -7.815765  -7.8119345 -7.800729  -7.8069773\n",
      " -7.7997823 -7.814563  -7.792873  -7.7991366 -7.7971687 -7.8128357\n",
      " -7.7586102 -7.8130608 -7.7993317 -7.8006988 -7.809471  -7.8011646\n",
      " -7.7845964 -7.811003  -7.8104625 -7.8049045 -7.809411  -7.800759\n",
      " -7.811799  -7.797154  -7.8119044 -7.8100867 -7.8106875 -7.810147\n",
      " -7.807503  -7.8040185 -7.7947054 -7.810177  -7.8108077 -7.813707\n",
      " -7.7945404 -7.8040633 -7.807383  -7.8069024 -7.815795 ]\n"
     ]
    }
   ],
   "source": [
    "# baseline 준비\n",
    "R_matrix_np = R_matrix.to_numpy()\n",
    "global_mean = np.mean(R_matrix_np[R_matrix_np != 0])\n",
    "user_bias = np.mean(R_matrix_np - global_mean, axis=1)\n",
    "item_bias = np.mean(R_matrix_np - global_mean, axis=0)\n",
    "print(\"global mean = \", global_mean)\n",
    "print(\"user bias = \", user_bias)\n",
    "print(\"item bias = \", item_bias)"
   ]
  },
  {
   "cell_type": "code",
   "execution_count": 9,
   "id": "ea6f1a2b",
   "metadata": {},
   "outputs": [
    {
     "name": "stdout",
     "output_type": "stream",
     "text": [
      "66574\n",
      "449\n",
      "행의 개수: 66574\n",
      "열의 개수: 449\n"
     ]
    }
   ],
   "source": [
    "u, s, vt = svds(csc_matrix(R_matrix_np), k=100)\n",
    "print(u.shape[0])\n",
    "print(np.dot(s, vt).shape[0])\n",
    "reconstructed = np.dot(np.dot(u, np.diag(s)), vt)\n",
    "num_rows = reconstructed.shape[0]  # 행의 개수\n",
    "num_cols = reconstructed.shape[1]  # 열의 개수\n",
    "\n",
    "print(f\"행의 개수: {num_rows}\")  # 66574개\n",
    "print(f\"열의 개수: {num_cols}\")  # 449개"
   ]
  },
  {
   "cell_type": "code",
   "execution_count": 22,
   "id": "e63a3e59",
   "metadata": {},
   "outputs": [],
   "source": [
    "# R_matrix -> baseline matrix로 변환\n",
    "def transfer_baseline_matrix(R_matrix):\n",
    "    R_matrix_np = R_matrix.to_numpy()\n",
    "    global_mean = np.mean(R_matrix_np[R_matrix_np != 0])\n",
    "    user_bias = np.mean(R_matrix_np - global_mean, axis=1)\n",
    "    item_bias = np.mean(R_matrix_np - global_mean, axis=0)\n",
    "    return R_matrix_np - (user_bias[:, np.newaxis] + item_bias) + global_mean, global_mean, user_bias, item_bias;"
   ]
  },
  {
   "cell_type": "code",
   "execution_count": 11,
   "id": "932f1d28",
   "metadata": {},
   "outputs": [
    {
     "name": "stdout",
     "output_type": "stream",
     "text": [
      "[[23.441563 23.445648 23.433842 ... 23.440422 23.439941 23.448833]\n",
      " [23.439337 23.443422 23.431616 ... 23.438194 23.437714 23.446606]\n",
      " [23.446018 23.450104 23.438297 ... 23.444876 23.444395 23.453289]\n",
      " ...\n",
      " [23.446018 23.450104 23.438297 ... 23.444876 23.444395 23.453289]\n",
      " [23.437109 23.441195 23.429388 ... 23.435966 23.435486 23.44438 ]\n",
      " [23.439337 23.443422 23.431616 ... 23.438194 23.437714 23.446606]]\n"
     ]
    }
   ],
   "source": [
    "print(transfer_baseline_matrix(R_matrix))"
   ]
  },
  {
   "cell_type": "code",
   "execution_count": 14,
   "id": "7cb8c79a",
   "metadata": {},
   "outputs": [
    {
     "name": "stdout",
     "output_type": "stream",
     "text": [
      "[[    0   279]\n",
      " [    1    35]\n",
      " [    2    35]\n",
      " ...\n",
      " [66571   266]\n",
      " [66572   239]\n",
      " [66573   163]]\n"
     ]
    }
   ],
   "source": [
    "non_zero_indices = np.argwhere(R_matrix.to_numpy() != 0)\n",
    "print(non_zero_indices)"
   ]
  },
  {
   "cell_type": "code",
   "execution_count": 30,
   "id": "76230014",
   "metadata": {},
   "outputs": [],
   "source": [
    "def calcul_avg_svd_error_baseline(R_matrix_np, baseline_matrix, mean, user_bias, item_bias, non_zero_indices, num_values):\n",
    "    \n",
    "    # SVD 진행\n",
    "    u, s, vt = svds(baseline_matrix, k=100)\n",
    "    reconstructed = np.dot(np.dot(u, np.diag(s)), vt)\n",
    "    \n",
    "    #오차 계산\n",
    "    error_sum = 0\n",
    "\n",
    "    for i, j in non_zero_indices:\n",
    "        predicted_rating = reconstructed[i, j] + user_bias[i] + item_bias[j] - mean \n",
    "        error_sum += abs(R_matrix_np[i, j] - predicted_rating)\n",
    "\n",
    "    return error_sum/num_values"
   ]
  },
  {
   "cell_type": "code",
   "execution_count": 27,
   "id": "9e4c251c",
   "metadata": {},
   "outputs": [
    {
     "name": "stdout",
     "output_type": "stream",
     "text": [
      "avg error =  0.0001\n",
      "Function executed in 2.7466671466827393 seconds\n",
      "\n"
     ]
    }
   ],
   "source": [
    "#  svd 사용\n",
    "baseline_matrix, global_mean, user_bias, item_bias = transfer_baseline_matrix(R_matrix)\n",
    "R_matrix_np = R_matrix.to_numpy()\n",
    "\n",
    "start_time = time.time()\n",
    "avg_error = calcul_avg_svd_error_baseline(R_matrix_np, baseline_matrix, global_mean, user_bias, item_bias, non_zero_indices, 103271)\n",
    "end_time = time.time()\n",
    "\n",
    "duration = end_time - start_time  # 실행 시간 계산\n",
    "formatted_avg_error = \"{:.4f}\".format(avg_error)\n",
    "formatted_duration = \"{:.4f}\".format(duration)\n",
    "\n",
    "\n",
    "print(\"avg error = \", formatted_avg_error)\n",
    "print(f\"Function executed in {duration} seconds\\n\")"
   ]
  },
  {
   "cell_type": "code",
   "execution_count": 31,
   "id": "1b07f65a",
   "metadata": {},
   "outputs": [
    {
     "name": "stdout",
     "output_type": "stream",
     "text": [
      "avg error =  7.6576\n",
      "Function executed in 12.337036848068237 seconds\n",
      "\n"
     ]
    }
   ],
   "source": [
    "# svds 사용 \n",
    "baseline_matrix, global_mean, user_bias, item_bias = transfer_baseline_matrix(R_matrix)\n",
    "R_matrix_np = R_matrix.to_numpy()\n",
    "\n",
    "start_time = time.time()\n",
    "avg_error = calcul_avg_svd_error_baseline(R_matrix_np, baseline_matrix, global_mean, user_bias, item_bias, non_zero_indices, 103271)\n",
    "end_time = time.time()\n",
    "\n",
    "duration = end_time - start_time  # 실행 시간 계산\n",
    "formatted_avg_error = \"{:.4f}\".format(avg_error)\n",
    "formatted_duration = \"{:.4f}\".format(duration)\n",
    "\n",
    "\n",
    "print(\"avg error = \", formatted_avg_error)\n",
    "print(f\"Function executed in {duration} seconds\\n\")"
   ]
  },
  {
   "cell_type": "code",
   "execution_count": 9,
   "id": "32506e94",
   "metadata": {},
   "outputs": [
    {
     "name": "stdout",
     "output_type": "stream",
     "text": [
      "avg error =  7.659766560626064\n"
     ]
    }
   ],
   "source": [
    "def calculate_svd_error_with_baseline(R_matrix_np, num_values=103271, k=100):\n",
    "    global_mean = np.mean(R_matrix_np[R_matrix_np != 0])\n",
    "    user_bias = np.mean(R_matrix_np - global_mean, axis=1)\n",
    "    item_bias = np.mean(R_matrix_np - global_mean, axis=0)\n",
    "\n",
    "    # 베이스라인 보정된 평점 행렬 생성\n",
    "    baseline_corrected = R_matrix_np - (user_bias[:, np.newaxis] + item_bias) + global_mean\n",
    "\n",
    "    # SVD 수행\n",
    "    u, s, vt = svds(csc_matrix(baseline_corrected), k=k)\n",
    "    reconstructed = np.dot(np.dot(u, np.diag(s)), vt)\n",
    "\n",
    "    # 오차 계산\n",
    "    error_sum = 0\n",
    "    non_zero_indices = np.argwhere(R_matrix_np != 0)\n",
    "\n",
    "    for i, j in non_zero_indices[:num_values]:\n",
    "        predicted_rating = reconstructed[i, j] + user_bias[i] + item_bias[j] - global_mean\n",
    "        error_sum += abs(R_matrix_np[i, j] - predicted_rating)\n",
    "\n",
    "    return error_sum\n",
    "\n",
    "# 함수 실행\n",
    "R_matrix_np = R_matrix.to_numpy()\n",
    "error = calculate_svd_error_with_baseline(R_matrix_np)\n",
    "print(\"avg error = \", error/103271)"
   ]
  },
  {
   "cell_type": "code",
   "execution_count": null,
   "id": "7b94bcb0",
   "metadata": {},
   "outputs": [],
   "source": []
  }
 ],
 "metadata": {
  "kernelspec": {
   "display_name": "Python 3 (ipykernel)",
   "language": "python",
   "name": "python3"
  },
  "language_info": {
   "codemirror_mode": {
    "name": "ipython",
    "version": 3
   },
   "file_extension": ".py",
   "mimetype": "text/x-python",
   "name": "python",
   "nbconvert_exporter": "python",
   "pygments_lexer": "ipython3",
   "version": "3.7.3"
  },
  "toc": {
   "base_numbering": 1,
   "nav_menu": {},
   "number_sections": true,
   "sideBar": true,
   "skip_h1_title": false,
   "title_cell": "Table of Contents",
   "title_sidebar": "Contents",
   "toc_cell": false,
   "toc_position": {},
   "toc_section_display": true,
   "toc_window_display": false
  },
  "varInspector": {
   "cols": {
    "lenName": 16,
    "lenType": 16,
    "lenVar": 40
   },
   "kernels_config": {
    "python": {
     "delete_cmd_postfix": "",
     "delete_cmd_prefix": "del ",
     "library": "var_list.py",
     "varRefreshCmd": "print(var_dic_list())"
    },
    "r": {
     "delete_cmd_postfix": ") ",
     "delete_cmd_prefix": "rm(",
     "library": "var_list.r",
     "varRefreshCmd": "cat(var_dic_list()) "
    }
   },
   "types_to_exclude": [
    "module",
    "function",
    "builtin_function_or_method",
    "instance",
    "_Feature"
   ],
   "window_display": false
  }
 },
 "nbformat": 4,
 "nbformat_minor": 5
}
