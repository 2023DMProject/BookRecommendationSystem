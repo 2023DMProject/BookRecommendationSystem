{
 "cells": [
  {
   "cell_type": "code",
   "execution_count": 20,
   "id": "9874ec4d",
   "metadata": {},
   "outputs": [],
   "source": [
    "import pandas as pd\n",
    "import matplotlib.pyplot as plt\n",
    "\n",
    "import seaborn as sns\n",
    "import gc\n",
    "\n",
    "from scipy.sparse import csc_matrix\n",
    "from scipy.sparse.linalg import svds\n",
    "from scipy.linalg import svd\n",
    "from sklearn.metrics import mean_squared_error, mean_absolute_error\n",
    "\n",
    "\n",
    "import numpy as np\n",
    "\n",
    "import time\n"
   ]
  },
  {
   "cell_type": "code",
   "execution_count": 2,
   "id": "14ed1d6b",
   "metadata": {},
   "outputs": [
    {
     "name": "stdout",
     "output_type": "stream",
     "text": [
      "   User-ID        ISBN  Book-Rating\n",
      "0   276726  0155061224            5\n",
      "1   276729  052165615X            3\n",
      "2   276729  0521795028            6\n",
      "3   276744  038550120X            7\n",
      "4   276747  0060517794            9\n",
      "     User-ID        ISBN  Book-Rating\n",
      "529   277427  002542730X           10\n",
      "530   277427  003008685X            8\n",
      "531   277427  0060006641           10\n",
      "532   277427  0060542128            7\n",
      "533   277427  0061009059            9\n",
      "행의 개수 :  103271\n"
     ]
    }
   ],
   "source": [
    "# 데이터 불러오기\n",
    "df = pd.read_csv(\"Filtered_Ratings_NoZero.csv\")\n",
    "\n",
    "print(df.head())\n",
    "\n",
    "# User-ID별로 등장 횟수를 세어 Series로 저장\n",
    "user_counts = df['User-ID'].value_counts()\n",
    "\n",
    "# User-ID가 100번 이상 등장한 사용자만 남기기 = 100권 이상 책 평가한 유저만 남기겠다\n",
    "filtered_df = df[df['User-ID'].isin(user_counts[user_counts >= 100].index)]\n",
    "\n",
    "# 결과 출력\n",
    "total_rows = len(filtered_df)\n",
    "print(filtered_df.head())\n",
    "print(\"행의 개수 : \", total_rows) # 103271 개"
   ]
  },
  {
   "cell_type": "code",
   "execution_count": 3,
   "id": "ced7a80d",
   "metadata": {},
   "outputs": [
    {
     "name": "stdout",
     "output_type": "stream",
     "text": [
      "User-ID     2033    2110    2276    4017    4385    5582    6242    6251    \\\n",
      "ISBN                                                                         \n",
      "0000913154     0.0     0.0     0.0     0.0     0.0     0.0     0.0     0.0   \n",
      "0001046438     0.0     0.0     0.0     0.0     0.0     0.0     0.0     0.0   \n",
      "000104687X     0.0     0.0     0.0     0.0     0.0     0.0     0.0     0.0   \n",
      "0001047213     0.0     0.0     0.0     0.0     0.0     0.0     0.0     0.0   \n",
      "0001047973     0.0     0.0     0.0     0.0     0.0     0.0     0.0     0.0   \n",
      "\n",
      "User-ID     6543    6575    ...  269566  270713  271448  271705  273113  \\\n",
      "ISBN                        ...                                           \n",
      "0000913154     0.0     0.0  ...     0.0     0.0     0.0     0.0     0.0   \n",
      "0001046438     0.0     0.0  ...     0.0     0.0     0.0     0.0     0.0   \n",
      "000104687X     0.0     0.0  ...     0.0     0.0     0.0     0.0     0.0   \n",
      "0001047213     0.0     0.0  ...     0.0     0.0     0.0     0.0     0.0   \n",
      "0001047973     0.0     0.0  ...     0.0     0.0     0.0     0.0     0.0   \n",
      "\n",
      "User-ID     274061  274301  275970  277427  278418  \n",
      "ISBN                                                \n",
      "0000913154     0.0     0.0     0.0     0.0     0.0  \n",
      "0001046438     0.0     0.0     0.0     0.0     0.0  \n",
      "000104687X     0.0     0.0     0.0     0.0     0.0  \n",
      "0001047213     0.0     0.0     0.0     0.0     0.0  \n",
      "0001047973     0.0     0.0     0.0     0.0     0.0  \n",
      "\n",
      "[5 rows x 449 columns]\n",
      "행의 개수: 66574\n",
      "열의 개수: 449\n",
      "0이 아닌 값의 갯수 :  103271\n",
      "0이 아닌 값의 비율 : 0.34548356290968274 %\n"
     ]
    }
   ],
   "source": [
    "# matrix로 변환하기\n",
    "R_matrix = filtered_df.pivot(index=\"ISBN\", columns=\"User-ID\", values=\"Book-Rating\").fillna(0).astype(\"float32\")\n",
    "print(R_matrix.head())\n",
    "\n",
    "num_rows = R_matrix.shape[0]  # 행의 개수\n",
    "num_cols = R_matrix.shape[1]  # 열의 개수\n",
    "\n",
    "print(f\"행의 개수: {num_rows}\")  # 66574개\n",
    "print(f\"열의 개수: {num_cols}\")  # 449개\n",
    "\n",
    "# R_matrix에서 0이 아닌 값의 개수\n",
    "non_zero_cnt = np.count_nonzero(R_matrix)\n",
    "print(\"0이 아닌 값의 갯수 : \", non_zero_cnt)\n",
    "print(\"0이 아닌 값의 비율 :\", non_zero_cnt * 100 / (num_rows*num_cols),\"%\")"
   ]
  },
  {
   "cell_type": "code",
   "execution_count": 17,
   "id": "a54f2717",
   "metadata": {},
   "outputs": [],
   "source": [
    "# baseline 구하는 함수\n",
    "def cal_baseline(R_matrix_np):\n",
    "    global_mean = np.mean(R_matrix_np[R_matrix_np != 0])\n",
    "    user_bias = np.mean(R_matrix_np - global_mean, axis=1)\n",
    "    item_bias = np.mean(R_matrix_np - global_mean, axis=0)\n",
    "    return global_mean, user_bias, item_bias"
   ]
  },
  {
   "cell_type": "code",
   "execution_count": 18,
   "id": "820d8897",
   "metadata": {},
   "outputs": [],
   "source": [
    "def svd_baseline(R_matrix_np, k):\n",
    "    global_mean, user_bias, item_bias = cal_baseline(R_matrix_np)\n",
    "    baseline_corrected_matrix = R_matrix_np - (user_bias[:, np.newaxis] + item_bias) + global_mean\n",
    "\n",
    "    sparse_R_matrix = csc_matrix(baseline_corrected_matrix)\n",
    "    \n",
    "    u, s, vt = svds(sparse_R_matrix, k = k)\n",
    "    \n",
    "    reconstructed = np.dot(u, np.dot(np.diag(s), vt))\n",
    "    \n",
    "    return reconstructed + (user_bias[:, np.newaxis] + item_bias) + global_mean"
   ]
  },
  {
   "cell_type": "code",
   "execution_count": 22,
   "id": "7016bc61",
   "metadata": {},
   "outputs": [],
   "source": [
    "# mae와 rmse 로 성능 평가\n",
    "def calculate_mae_rmse(true_ratings, predicted_ratings):\n",
    "    mask = true_ratings != 0  # 평가되지 않은 항목은 제외\n",
    "    mae = mean_absolute_error(true_ratings[mask], predicted_ratings[mask])\n",
    "    rmse = np.sqrt(mean_squared_error(true_ratings[mask], predicted_ratings[mask]))\n",
    "    return mae, rmse"
   ]
  },
  {
   "cell_type": "code",
   "execution_count": 21,
   "id": "632ca535",
   "metadata": {},
   "outputs": [
    {
     "ename": "NameError",
     "evalue": "name 'calculate_mae_rmse' is not defined",
     "output_type": "error",
     "traceback": [
      "\u001b[1;31m---------------------------------------------------------------------------\u001b[0m",
      "\u001b[1;31mNameError\u001b[0m                                 Traceback (most recent call last)",
      "\u001b[1;32m~\\AppData\\Local\\Temp/ipykernel_20016/1135754648.py\u001b[0m in \u001b[0;36m<module>\u001b[1;34m\u001b[0m\n\u001b[0;32m      1\u001b[0m \u001b[0mR_matrix_np\u001b[0m \u001b[1;33m=\u001b[0m \u001b[0mR_matrix\u001b[0m\u001b[1;33m.\u001b[0m\u001b[0mto_numpy\u001b[0m\u001b[1;33m(\u001b[0m\u001b[1;33m)\u001b[0m\u001b[1;33m\u001b[0m\u001b[1;33m\u001b[0m\u001b[0m\n\u001b[0;32m      2\u001b[0m \u001b[0msvd_baseline_matrix\u001b[0m \u001b[1;33m=\u001b[0m \u001b[0msvd_baseline\u001b[0m\u001b[1;33m(\u001b[0m\u001b[0mR_matrix_np\u001b[0m\u001b[1;33m,\u001b[0m \u001b[1;36m100\u001b[0m\u001b[1;33m)\u001b[0m\u001b[1;33m\u001b[0m\u001b[1;33m\u001b[0m\u001b[0m\n\u001b[1;32m----> 3\u001b[1;33m \u001b[0mmae\u001b[0m\u001b[1;33m,\u001b[0m \u001b[0mrmse\u001b[0m \u001b[1;33m=\u001b[0m \u001b[0mcalculate_mae_rmse\u001b[0m\u001b[1;33m(\u001b[0m\u001b[0mR_matrix_np\u001b[0m\u001b[1;33m,\u001b[0m \u001b[0msvd_baseline_matrix\u001b[0m\u001b[1;33m)\u001b[0m\u001b[1;33m\u001b[0m\u001b[1;33m\u001b[0m\u001b[0m\n\u001b[0m",
      "\u001b[1;31mNameError\u001b[0m: name 'calculate_mae_rmse' is not defined"
     ]
    }
   ],
   "source": [
    "R_matrix_np = R_matrix.to_numpy()\n",
    "svd_baseline_matrix = svd_baseline(R_matrix_np, 100)\n"
   ]
  },
  {
   "cell_type": "code",
   "execution_count": 24,
   "id": "cf5a1c5f",
   "metadata": {},
   "outputs": [
    {
     "name": "stdout",
     "output_type": "stream",
     "text": [
      "MAE = 7.9914255\n",
      "RMSE = 8.19535\n"
     ]
    }
   ],
   "source": [
    "mae, rmse = calculate_mae_rmse(R_matrix_np, svd_baseline_matrix)\n",
    "print(\"MAE =\", mae)\n",
    "print(\"RMSE =\", rmse)"
   ]
  },
  {
   "cell_type": "code",
   "execution_count": 26,
   "id": "acd46582",
   "metadata": {},
   "outputs": [
    {
     "name": "stdout",
     "output_type": "stream",
     "text": [
      "MAE = 3.6324675\n",
      "RMSE = 5.176186\n"
     ]
    }
   ],
   "source": [
    "a = csc_matrix(R_matrix)\n",
    "U, S, Vt = svds(a, 100)\n",
    "\n",
    "recon = np.dot(U, np.dot(np.diag(S), Vt))\n",
    "\n",
    "mae, rmse = calculate_mae_rmse(R_matrix_np, recon)\n",
    "print(\"MAE =\", mae)\n",
    "print(\"RMSE =\", rmse)"
   ]
  },
  {
   "cell_type": "code",
   "execution_count": null,
   "id": "192763fd",
   "metadata": {},
   "outputs": [],
   "source": []
  }
 ],
 "metadata": {
  "kernelspec": {
   "display_name": "Python 3 (ipykernel)",
   "language": "python",
   "name": "python3"
  },
  "language_info": {
   "codemirror_mode": {
    "name": "ipython",
    "version": 3
   },
   "file_extension": ".py",
   "mimetype": "text/x-python",
   "name": "python",
   "nbconvert_exporter": "python",
   "pygments_lexer": "ipython3",
   "version": "3.7.3"
  },
  "toc": {
   "base_numbering": 1,
   "nav_menu": {},
   "number_sections": true,
   "sideBar": true,
   "skip_h1_title": false,
   "title_cell": "Table of Contents",
   "title_sidebar": "Contents",
   "toc_cell": false,
   "toc_position": {},
   "toc_section_display": true,
   "toc_window_display": false
  },
  "varInspector": {
   "cols": {
    "lenName": 16,
    "lenType": 16,
    "lenVar": 40
   },
   "kernels_config": {
    "python": {
     "delete_cmd_postfix": "",
     "delete_cmd_prefix": "del ",
     "library": "var_list.py",
     "varRefreshCmd": "print(var_dic_list())"
    },
    "r": {
     "delete_cmd_postfix": ") ",
     "delete_cmd_prefix": "rm(",
     "library": "var_list.r",
     "varRefreshCmd": "cat(var_dic_list()) "
    }
   },
   "types_to_exclude": [
    "module",
    "function",
    "builtin_function_or_method",
    "instance",
    "_Feature"
   ],
   "window_display": false
  }
 },
 "nbformat": 4,
 "nbformat_minor": 5
}
