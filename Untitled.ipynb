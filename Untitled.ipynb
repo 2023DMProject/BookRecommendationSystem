{
 "cells": [
  {
   "cell_type": "code",
   "execution_count": 1,
   "id": "2e0132f6",
   "metadata": {},
   "outputs": [],
   "source": [
    "import pandas as pd\n",
    "import matplotlib.pyplot as plt\n",
    "import seaborn as sns"
   ]
  },
  {
   "cell_type": "code",
   "execution_count": 4,
   "id": "d3a7733c",
   "metadata": {},
   "outputs": [],
   "source": [
    "filtered_ratings_df = pd.read_csv(\"Filtered_Ratings.csv\",dtype={\"ISBN\": str}, low_memory=False)\n",
    "fr0_df = filtered_ratings_df[filtered_ratings_df['Book-Rating'] != 0]\n",
    "fr0_df\n",
    "fr0_df.to_csv(\"Filtered_Ratings_NoZero.csv\", index=False)"
   ]
  },
  {
   "cell_type": "markdown",
   "id": "8ea9a9b3",
   "metadata": {},
   "source": [
    "* Latent Factor Models (SVD : R = Q*Pt)\n",
    "* unrated books에 대해서는 0이 아닌 NaN으로 유지\n",
    "* Sparse SVD를 통해 누락된 값(NaN) 무시하고 데이터가 있는 값들만 사용하여 분해를 수행"
   ]
  },
  {
   "cell_type": "code",
   "execution_count": 11,
   "id": "2bb076a5",
   "metadata": {
    "scrolled": true
   },
   "outputs": [
    {
     "data": {
      "text/plain": [
       "383842"
      ]
     },
     "execution_count": 11,
     "metadata": {},
     "output_type": "execute_result"
    }
   ],
   "source": [
    "fr0_df\n",
    "row_cnt = fr0_df[\"User-ID\"].count()\n",
    "row_cnt\n",
    "#R_matrix = fr0_df.pivot(index='ISBN', columns='User-ID', values='Book-Rating')"
   ]
  },
  {
   "cell_type": "code",
   "execution_count": null,
   "id": "aa30ac46",
   "metadata": {},
   "outputs": [],
   "source": []
  }
 ],
 "metadata": {
  "kernelspec": {
   "display_name": "Python 3 (ipykernel)",
   "language": "python",
   "name": "python3"
  },
  "language_info": {
   "codemirror_mode": {
    "name": "ipython",
    "version": 3
   },
   "file_extension": ".py",
   "mimetype": "text/x-python",
   "name": "python",
   "nbconvert_exporter": "python",
   "pygments_lexer": "ipython3",
   "version": "3.7.3"
  },
  "toc": {
   "base_numbering": 1,
   "nav_menu": {},
   "number_sections": true,
   "sideBar": true,
   "skip_h1_title": false,
   "title_cell": "Table of Contents",
   "title_sidebar": "Contents",
   "toc_cell": false,
   "toc_position": {},
   "toc_section_display": true,
   "toc_window_display": false
  },
  "varInspector": {
   "cols": {
    "lenName": 16,
    "lenType": 16,
    "lenVar": 40
   },
   "kernels_config": {
    "python": {
     "delete_cmd_postfix": "",
     "delete_cmd_prefix": "del ",
     "library": "var_list.py",
     "varRefreshCmd": "print(var_dic_list())"
    },
    "r": {
     "delete_cmd_postfix": ") ",
     "delete_cmd_prefix": "rm(",
     "library": "var_list.r",
     "varRefreshCmd": "cat(var_dic_list()) "
    }
   },
   "types_to_exclude": [
    "module",
    "function",
    "builtin_function_or_method",
    "instance",
    "_Feature"
   ],
   "window_display": false
  }
 },
 "nbformat": 4,
 "nbformat_minor": 5
}
