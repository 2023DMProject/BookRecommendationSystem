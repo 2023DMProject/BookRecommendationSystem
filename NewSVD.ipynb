{
 "cells": [
  {
   "cell_type": "code",
   "execution_count": 9,
   "id": "473e3225",
   "metadata": {},
   "outputs": [],
   "source": [
    "import pandas as pd\n",
    "import matplotlib.pyplot as plt\n",
    "\n",
    "import seaborn as sns\n",
    "import gc\n",
    "\n",
    "from scipy.sparse import csc_matrix\n",
    "from scipy.sparse.linalg import svds\n",
    "from scipy.linalg import svd\n",
    "\n",
    "\n",
    "import numpy as np\n",
    "\n",
    "import time\n"
   ]
  },
  {
   "cell_type": "code",
   "execution_count": 2,
   "id": "d88c0b72",
   "metadata": {},
   "outputs": [
    {
     "name": "stdout",
     "output_type": "stream",
     "text": [
      "   User-ID        ISBN  Book-Rating\n",
      "0   276726  0155061224            5\n",
      "1   276729  052165615X            3\n",
      "2   276729  0521795028            6\n",
      "3   276744  038550120X            7\n",
      "4   276747  0060517794            9\n"
     ]
    }
   ],
   "source": [
    "# 데이터 불러오기\n",
    "df = pd.read_csv(\"Filtered_Ratings_NoZero.csv\")\n",
    "\n",
    "print(df.head())"
   ]
  },
  {
   "cell_type": "code",
   "execution_count": 5,
   "id": "f8f8f3ed",
   "metadata": {},
   "outputs": [
    {
     "name": "stdout",
     "output_type": "stream",
     "text": [
      "     User-ID        ISBN  Book-Rating\n",
      "529   277427  002542730X           10\n",
      "530   277427  003008685X            8\n",
      "531   277427  0060006641           10\n",
      "532   277427  0060542128            7\n",
      "533   277427  0061009059            9\n",
      "행의 개수 :  103271\n"
     ]
    }
   ],
   "source": [
    "# User-ID별로 등장 횟수를 세어 Series로 저장\n",
    "user_counts = df['User-ID'].value_counts()\n",
    "\n",
    "# User-ID가 100번 이상 등장한 사용자만 남기기 = 100권 이상 책 평가한 유저만 남기겠다\n",
    "filtered_df = df[df['User-ID'].isin(user_counts[user_counts >= 100].index)]\n",
    "\n",
    "# 결과 출력\n",
    "total_rows = len(filtered_df)\n",
    "print(filtered_df.head())\n",
    "print(\"행의 개수 : \", total_rows) # 103271 개"
   ]
  },
  {
   "cell_type": "code",
   "execution_count": 6,
   "id": "a37f1d15",
   "metadata": {},
   "outputs": [
    {
     "name": "stdout",
     "output_type": "stream",
     "text": [
      "User-ID     2033    2110    2276    4017    4385    5582    6242    6251    \\\n",
      "ISBN                                                                         \n",
      "0000913154     0.0     0.0     0.0     0.0     0.0     0.0     0.0     0.0   \n",
      "0001046438     0.0     0.0     0.0     0.0     0.0     0.0     0.0     0.0   \n",
      "000104687X     0.0     0.0     0.0     0.0     0.0     0.0     0.0     0.0   \n",
      "0001047213     0.0     0.0     0.0     0.0     0.0     0.0     0.0     0.0   \n",
      "0001047973     0.0     0.0     0.0     0.0     0.0     0.0     0.0     0.0   \n",
      "\n",
      "User-ID     6543    6575    ...  269566  270713  271448  271705  273113  \\\n",
      "ISBN                        ...                                           \n",
      "0000913154     0.0     0.0  ...     0.0     0.0     0.0     0.0     0.0   \n",
      "0001046438     0.0     0.0  ...     0.0     0.0     0.0     0.0     0.0   \n",
      "000104687X     0.0     0.0  ...     0.0     0.0     0.0     0.0     0.0   \n",
      "0001047213     0.0     0.0  ...     0.0     0.0     0.0     0.0     0.0   \n",
      "0001047973     0.0     0.0  ...     0.0     0.0     0.0     0.0     0.0   \n",
      "\n",
      "User-ID     274061  274301  275970  277427  278418  \n",
      "ISBN                                                \n",
      "0000913154     0.0     0.0     0.0     0.0     0.0  \n",
      "0001046438     0.0     0.0     0.0     0.0     0.0  \n",
      "000104687X     0.0     0.0     0.0     0.0     0.0  \n",
      "0001047213     0.0     0.0     0.0     0.0     0.0  \n",
      "0001047973     0.0     0.0     0.0     0.0     0.0  \n",
      "\n",
      "[5 rows x 449 columns]\n"
     ]
    }
   ],
   "source": [
    "# matrix로 변환하기\n",
    "R_matrix = filtered_df.pivot(index=\"ISBN\", columns=\"User-ID\", values=\"Book-Rating\").fillna(0).astype(\"float32\")\n",
    "print(R_matrix.head())"
   ]
  },
  {
   "cell_type": "code",
   "execution_count": 7,
   "id": "58cbdca2",
   "metadata": {
    "scrolled": true
   },
   "outputs": [
    {
     "name": "stdout",
     "output_type": "stream",
     "text": [
      "행의 개수: 66574\n",
      "열의 개수: 449\n",
      "0이 아닌 값의 갯수 :  103271\n",
      "0이 아닌 값의 비율 : 0.34548356290968274 %\n"
     ]
    }
   ],
   "source": [
    "num_rows = R_matrix.shape[0]  # 행의 개수\n",
    "num_cols = R_matrix.shape[1]  # 열의 개수\n",
    "\n",
    "print(f\"행의 개수: {num_rows}\")  # 66574개\n",
    "print(f\"열의 개수: {num_cols}\")  # 449개\n",
    "\n",
    "# R_matrix에서 0이 아닌 값의 개수\n",
    "non_zero_cnt = np.count_nonzero(R_matrix)\n",
    "print(\"0이 아닌 값의 갯수 : \", non_zero_cnt)\n",
    "print(\"0이 아닌 값의 비율 :\", non_zero_cnt * 100 / (num_rows*num_cols),\"%\")"
   ]
  },
  {
   "cell_type": "code",
   "execution_count": 13,
   "id": "240a1ce6",
   "metadata": {},
   "outputs": [],
   "source": [
    "def calculate_svd_error(R_matrix_np, num_values):\n",
    "    error_sum = 0\n",
    "    non_zero_indices = np.argwhere(R_matrix_np != 0)\n",
    "    \n",
    "    for idx in range(min(num_values, len(non_zero_indices))):\n",
    "        i, j = non_zero_indices[idx]\n",
    "        \n",
    "        # 원래 값 저장\n",
    "        original_value = R_matrix_np[i,j]\n",
    "        # 해당 값 제외\n",
    "        R_matrix_np[i,j] = 0\n",
    "        \n",
    "        # SVD 수행\n",
    "        sparse_R_matrix = csc_matrix(R_matrix_np)\n",
    "        u, s, vt = svds(sparse_R_matrix, k = 100)\n",
    "        reconstructed = np.dot(np.dot(u, np.diag(s)), vt)\n",
    "        \n",
    "        # 오차 계산\n",
    "        predicted_value = reconstructed[i,j]\n",
    "        error_sum += abs(original_value - predicted_value)\n",
    "        \n",
    "        # 원래 값 복원\n",
    "        R_matrix_np[i,j] = original_value\n",
    "        \n",
    "    return error_sum\n",
    "        "
   ]
  },
  {
   "cell_type": "code",
   "execution_count": 14,
   "id": "6b11d717",
   "metadata": {},
   "outputs": [
    {
     "name": "stdout",
     "output_type": "stream",
     "text": [
      "평균 error :  0.07611983692509469\n",
      "Function executed in 764.9960215091705 seconds\n"
     ]
    }
   ],
   "source": [
    "R_matrix_np = R_matrix.to_numpy()\n",
    "start_time = time.time()\n",
    "error = calculate_svd_error(R_matrix_np, num_values=1000)\n",
    "end_time = time.time()\n",
    "duration = end_time - start_time  # 실행 시간 계산\n",
    "print(\"평균 error : \", error/103271)\n",
    "print(f\"Function executed in {duration} seconds\")\n"
   ]
  },
  {
   "cell_type": "code",
   "execution_count": null,
   "id": "f52a51aa",
   "metadata": {},
   "outputs": [],
   "source": [
    "# 유저의 \n",
    "test_matrix = R_matrix.iloc[-19972:, -134:]\n",
    "print(test_matrix.head())"
   ]
  },
  {
   "cell_type": "code",
   "execution_count": null,
   "id": "4a9b7b0b",
   "metadata": {},
   "outputs": [],
   "source": [
    "# test_matrix 부분 제외하기\n",
    "remaining_matrix = R_matrix.drop(R_matrix.tail(19972).index).drop(R_matrix.columns[-134:], axis=1)\n",
    "\n",
    "# 1. 행렬 -> 희소행렬로 변환\n",
    "sparse_remaining_matrix = csc_matrix(remaining_matrix.values)\n",
    "\n",
    "# k = 100으로 svd 진행\n",
    "U, S, Vt = svds(sparse_remaining_matrix, k=100)"
   ]
  },
  {
   "cell_type": "code",
   "execution_count": 10,
   "id": "fbd1433e",
   "metadata": {},
   "outputs": [
    {
     "name": "stdout",
     "output_type": "stream",
     "text": [
      "0.03187514841556549\n",
      "Function executed in 0.7364842891693115 seconds\n"
     ]
    }
   ],
   "source": [
    "# 1번 실행될 때 몇 초 걸리는지 \n",
    "R_matrix_np = R_matrix.to_numpy()\n",
    "\n",
    "i = 100\n",
    "j = 100\n",
    "error_sum = 0\n",
    "\n",
    "start_time = time.time()\n",
    "\n",
    "original_value = R_matrix_np[i,j]\n",
    "# 해당 값 제외\n",
    "R_matrix_np[i,j] = 0\n",
    "\n",
    "# SVD 수행\n",
    "sparse_R_matrix = csc_matrix(R_matrix_np)\n",
    "u, s, vt = svds(sparse_R_matrix, k = 100)\n",
    "reconstructed = np.dot(np.dot(u, np.diag(s)), vt)\n",
    "\n",
    "# 오차 계산\n",
    "predicted_value = reconstructed[i,j]\n",
    "error_sum += abs(original_value - predicted_value)\n",
    "\n",
    "# 원래 값 복원\n",
    "R_matrix_np[i,j] = original_value\n",
    "\n",
    "end_time = time.time()\n",
    "duration = end_time - start_time  # 실행 시간 계산\n",
    "\n",
    "print(error_sum)\n",
    "print(f\"Function executed in {duration} seconds\")\n"
   ]
  },
  {
   "cell_type": "code",
   "execution_count": null,
   "id": "80d02822",
   "metadata": {},
   "outputs": [],
   "source": [
    "# 데이터 복원하기\n",
    "reconstructed_data = np.dot(np.dot(U, np.diag(S)), Vt)\n",
    "num_re_rows = reconstructed_data.shape[0]\n",
    "num_re_columns = reconstructed_data.shape[1]\n",
    "print(f\"행의 개수: {num_re_rows}\")  # 66574개\n",
    "print(f\"열의 개수: {num_re_columns}\")  # 449개"
   ]
  },
  {
   "cell_type": "code",
   "execution_count": null,
   "id": "95e5fa2b",
   "metadata": {},
   "outputs": [],
   "source": [
    "# Reconstructing the matrix from SVD components\n",
    "Sigma = np.zeros((U.shape[0], Vt.shape[0]))\n",
    "Sigma[:S.shape[0], :S.shape[0]] = np.diag(S)\n",
    "reconstructed_matrix = np.dot(U, np.dot(Sigma, Vt))\n",
    "num_re_rows = reconstructed_data.shape[0]\n",
    "num_re_columns = reconstructed_data.shape[1]\n",
    "print(f\"행의 개수: {num_re_rows}\")  # 66574개\n",
    "print(f\"열의 개수: {num_re_columns}\")  # 449개"
   ]
  },
  {
   "cell_type": "code",
   "execution_count": null,
   "id": "2846f138",
   "metadata": {},
   "outputs": [],
   "source": [
    "# 2. 그냥 svd 진행하기\n",
    "# Converting the DataFrame to a NumPy array for SVD\n",
    "remaining_matrix_np = remaining_matrix.to_numpy()\n",
    "\n",
    "# Perform SVD\n",
    "U, s, Vt = svd(remaining_matrix_np)"
   ]
  },
  {
   "cell_type": "code",
   "execution_count": null,
   "id": "f7f12c98",
   "metadata": {},
   "outputs": [],
   "source": [
    "# Reconstructing the matrix from SVD components\n",
    "Sigma = np.zeros((U.shape[0], Vt.shape[0]))\n",
    "Sigma[:s.shape[0], :s.shape[0]] = np.diag(s)\n",
    "reconstructed_matrix = np.dot(U, np.dot(Sigma, Vt))"
   ]
  }
 ],
 "metadata": {
  "kernelspec": {
   "display_name": "Python 3 (ipykernel)",
   "language": "python",
   "name": "python3"
  },
  "language_info": {
   "codemirror_mode": {
    "name": "ipython",
    "version": 3
   },
   "file_extension": ".py",
   "mimetype": "text/x-python",
   "name": "python",
   "nbconvert_exporter": "python",
   "pygments_lexer": "ipython3",
   "version": "3.7.3"
  },
  "toc": {
   "base_numbering": 1,
   "nav_menu": {},
   "number_sections": true,
   "sideBar": true,
   "skip_h1_title": false,
   "title_cell": "Table of Contents",
   "title_sidebar": "Contents",
   "toc_cell": false,
   "toc_position": {},
   "toc_section_display": true,
   "toc_window_display": false
  },
  "varInspector": {
   "cols": {
    "lenName": 16,
    "lenType": 16,
    "lenVar": 40
   },
   "kernels_config": {
    "python": {
     "delete_cmd_postfix": "",
     "delete_cmd_prefix": "del ",
     "library": "var_list.py",
     "varRefreshCmd": "print(var_dic_list())"
    },
    "r": {
     "delete_cmd_postfix": ") ",
     "delete_cmd_prefix": "rm(",
     "library": "var_list.r",
     "varRefreshCmd": "cat(var_dic_list()) "
    }
   },
   "types_to_exclude": [
    "module",
    "function",
    "builtin_function_or_method",
    "instance",
    "_Feature"
   ],
   "window_display": false
  }
 },
 "nbformat": 4,
 "nbformat_minor": 5
}
