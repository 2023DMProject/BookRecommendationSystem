{
 "cells": [
  {
   "cell_type": "code",
   "execution_count": 1,
   "id": "411b5f4e",
   "metadata": {},
   "outputs": [],
   "source": [
    "import pandas as pd\n",
    "import matplotlib.pyplot as plt\n",
    "\n",
    "import seaborn as sns\n",
    "import gc\n",
    "\n",
    "from scipy.sparse import csc_matrix\n",
    "from scipy.sparse.linalg import svds\n",
    "from scipy.linalg import svd\n",
    "\n",
    "\n",
    "import numpy as np\n",
    "\n",
    "import time\n"
   ]
  },
  {
   "cell_type": "code",
   "execution_count": 2,
   "id": "9be55603",
   "metadata": {},
   "outputs": [
    {
     "name": "stdout",
     "output_type": "stream",
     "text": [
      "   User-ID        ISBN  Book-Rating\n",
      "0   276726  0155061224            5\n",
      "1   276729  052165615X            3\n",
      "2   276729  0521795028            6\n",
      "3   276744  038550120X            7\n",
      "4   276747  0060517794            9\n",
      "     User-ID        ISBN  Book-Rating\n",
      "529   277427  002542730X           10\n",
      "530   277427  003008685X            8\n",
      "531   277427  0060006641           10\n",
      "532   277427  0060542128            7\n",
      "533   277427  0061009059            9\n",
      "행의 개수 :  103271\n"
     ]
    }
   ],
   "source": [
    "# 데이터 불러오기\n",
    "df = pd.read_csv(\"Filtered_Ratings_NoZero.csv\")\n",
    "\n",
    "print(df.head())\n",
    "\n",
    "# User-ID별로 등장 횟수를 세어 Series로 저장\n",
    "user_counts = df['User-ID'].value_counts()\n",
    "\n",
    "# User-ID가 100번 이상 등장한 사용자만 남기기 = 100권 이상 책 평가한 유저만 남기겠다\n",
    "filtered_df = df[df['User-ID'].isin(user_counts[user_counts >= 100].index)]\n",
    "\n",
    "# 결과 출력\n",
    "total_rows = len(filtered_df)\n",
    "print(filtered_df.head())\n",
    "print(\"행의 개수 : \", total_rows) # 103271 개"
   ]
  },
  {
   "cell_type": "code",
   "execution_count": 3,
   "id": "76956302",
   "metadata": {},
   "outputs": [
    {
     "name": "stdout",
     "output_type": "stream",
     "text": [
      "User-ID     2033    2110    2276    4017    4385    5582    6242    6251    \\\n",
      "ISBN                                                                         \n",
      "0000913154     0.0     0.0     0.0     0.0     0.0     0.0     0.0     0.0   \n",
      "0001046438     0.0     0.0     0.0     0.0     0.0     0.0     0.0     0.0   \n",
      "000104687X     0.0     0.0     0.0     0.0     0.0     0.0     0.0     0.0   \n",
      "0001047213     0.0     0.0     0.0     0.0     0.0     0.0     0.0     0.0   \n",
      "0001047973     0.0     0.0     0.0     0.0     0.0     0.0     0.0     0.0   \n",
      "\n",
      "User-ID     6543    6575    ...  269566  270713  271448  271705  273113  \\\n",
      "ISBN                        ...                                           \n",
      "0000913154     0.0     0.0  ...     0.0     0.0     0.0     0.0     0.0   \n",
      "0001046438     0.0     0.0  ...     0.0     0.0     0.0     0.0     0.0   \n",
      "000104687X     0.0     0.0  ...     0.0     0.0     0.0     0.0     0.0   \n",
      "0001047213     0.0     0.0  ...     0.0     0.0     0.0     0.0     0.0   \n",
      "0001047973     0.0     0.0  ...     0.0     0.0     0.0     0.0     0.0   \n",
      "\n",
      "User-ID     274061  274301  275970  277427  278418  \n",
      "ISBN                                                \n",
      "0000913154     0.0     0.0     0.0     0.0     0.0  \n",
      "0001046438     0.0     0.0     0.0     0.0     0.0  \n",
      "000104687X     0.0     0.0     0.0     0.0     0.0  \n",
      "0001047213     0.0     0.0     0.0     0.0     0.0  \n",
      "0001047973     0.0     0.0     0.0     0.0     0.0  \n",
      "\n",
      "[5 rows x 449 columns]\n",
      "행의 개수: 66574\n",
      "열의 개수: 449\n",
      "0이 아닌 값의 갯수 :  103271\n",
      "0이 아닌 값의 비율 : 0.34548356290968274 %\n"
     ]
    }
   ],
   "source": [
    "# matrix로 변환하기\n",
    "R_matrix = filtered_df.pivot(index=\"ISBN\", columns=\"User-ID\", values=\"Book-Rating\").fillna(0).astype(\"float32\")\n",
    "print(R_matrix.head())\n",
    "\n",
    "num_rows = R_matrix.shape[0]  # 행의 개수\n",
    "num_cols = R_matrix.shape[1]  # 열의 개수\n",
    "\n",
    "print(f\"행의 개수: {num_rows}\")  # 66574개\n",
    "print(f\"열의 개수: {num_cols}\")  # 449개\n",
    "\n",
    "# R_matrix에서 0이 아닌 값의 개수\n",
    "non_zero_cnt = np.count_nonzero(R_matrix)\n",
    "print(\"0이 아닌 값의 갯수 : \", non_zero_cnt)\n",
    "print(\"0이 아닌 값의 비율 :\", non_zero_cnt * 100 / (num_rows*num_cols),\"%\")"
   ]
  },
  {
   "cell_type": "markdown",
   "id": "ec62c700",
   "metadata": {},
   "source": [
    "1. Rmatrix를 baseline predictor를 추가한 matrix로 변환 + overfitting 방지를 위해 regularization term도 추가\n",
    "2. baseline matrix 를 svd 수행\n",
    "3. 기존 값(Rmatrix에서 0이 아닌 값들)을 얼마나 예측 잘했는지 확인\n",
    "4. 다른 값 예측해보기"
   ]
  },
  {
   "cell_type": "code",
   "execution_count": 22,
   "id": "e63a3e59",
   "metadata": {},
   "outputs": [],
   "source": [
    "# R_matrix -> baseline matrix로 변환\n",
    "def transfer_baseline_matrix(R_matrix):\n",
    "    R_matrix_np = R_matrix.to_numpy()\n",
    "    global_mean = np.mean(R_matrix_np[R_matrix_np != 0])\n",
    "    user_bias = np.mean(R_matrix_np - global_mean, axis=1)\n",
    "    item_bias = np.mean(R_matrix_np - global_mean, axis=0)\n",
    "    return R_matrix_np - (user_bias[:, np.newaxis] + item_bias) + global_mean, global_mean, user_bias, item_bias;"
   ]
  },
  {
   "cell_type": "code",
   "execution_count": 11,
   "id": "932f1d28",
   "metadata": {},
   "outputs": [
    {
     "name": "stdout",
     "output_type": "stream",
     "text": [
      "[[23.441563 23.445648 23.433842 ... 23.440422 23.439941 23.448833]\n",
      " [23.439337 23.443422 23.431616 ... 23.438194 23.437714 23.446606]\n",
      " [23.446018 23.450104 23.438297 ... 23.444876 23.444395 23.453289]\n",
      " ...\n",
      " [23.446018 23.450104 23.438297 ... 23.444876 23.444395 23.453289]\n",
      " [23.437109 23.441195 23.429388 ... 23.435966 23.435486 23.44438 ]\n",
      " [23.439337 23.443422 23.431616 ... 23.438194 23.437714 23.446606]]\n"
     ]
    }
   ],
   "source": [
    "print(transfer_baseline_matrix(R_matrix))"
   ]
  },
  {
   "cell_type": "code",
   "execution_count": 14,
   "id": "7cb8c79a",
   "metadata": {},
   "outputs": [
    {
     "name": "stdout",
     "output_type": "stream",
     "text": [
      "[[    0   279]\n",
      " [    1    35]\n",
      " [    2    35]\n",
      " ...\n",
      " [66571   266]\n",
      " [66572   239]\n",
      " [66573   163]]\n"
     ]
    }
   ],
   "source": [
    "non_zero_indices = np.argwhere(R_matrix.to_numpy() != 0)\n",
    "print(non_zero_indices)"
   ]
  },
  {
   "cell_type": "code",
   "execution_count": 30,
   "id": "76230014",
   "metadata": {},
   "outputs": [],
   "source": [
    "def calcul_avg_svd_error_baseline(R_matrix_np, baseline_matrix, mean, user_bias, item_bias, non_zero_indices, num_values):\n",
    "    \n",
    "    # SVD 진행\n",
    "    u, s, vt = svds(baseline_matrix, k=100)\n",
    "    reconstructed = np.dot(np.dot(u, np.diag(s)), vt)\n",
    "    \n",
    "    #오차 계산\n",
    "    error_sum = 0\n",
    "\n",
    "    for i, j in non_zero_indices:\n",
    "        predicted_rating = reconstructed[i, j] + user_bias[i] + item_bias[j] - mean \n",
    "        error_sum += abs(R_matrix_np[i, j] - predicted_rating)\n",
    "\n",
    "    return error_sum/num_values"
   ]
  },
  {
   "cell_type": "code",
   "execution_count": 27,
   "id": "9e4c251c",
   "metadata": {},
   "outputs": [
    {
     "name": "stdout",
     "output_type": "stream",
     "text": [
      "avg error =  0.0001\n",
      "Function executed in 2.7466671466827393 seconds\n",
      "\n"
     ]
    }
   ],
   "source": [
    "#  svd 사용\n",
    "baseline_matrix, global_mean, user_bias, item_bias = transfer_baseline_matrix(R_matrix)\n",
    "R_matrix_np = R_matrix.to_numpy()\n",
    "\n",
    "start_time = time.time()\n",
    "avg_error = calcul_avg_svd_error_baseline(R_matrix_np, baseline_matrix, global_mean, user_bias, item_bias, non_zero_indices, 103271)\n",
    "end_time = time.time()\n",
    "\n",
    "duration = end_time - start_time  # 실행 시간 계산\n",
    "formatted_avg_error = \"{:.4f}\".format(avg_error)\n",
    "formatted_duration = \"{:.4f}\".format(duration)\n",
    "\n",
    "\n",
    "print(\"avg error = \", formatted_avg_error)\n",
    "print(f\"Function executed in {duration} seconds\\n\")"
   ]
  },
  {
   "cell_type": "code",
   "execution_count": 31,
   "id": "1b07f65a",
   "metadata": {},
   "outputs": [
    {
     "name": "stdout",
     "output_type": "stream",
     "text": [
      "avg error =  7.6576\n",
      "Function executed in 12.337036848068237 seconds\n",
      "\n"
     ]
    }
   ],
   "source": [
    "# svds 사용 \n",
    "baseline_matrix, global_mean, user_bias, item_bias = transfer_baseline_matrix(R_matrix)\n",
    "R_matrix_np = R_matrix.to_numpy()\n",
    "\n",
    "start_time = time.time()\n",
    "avg_error = calcul_avg_svd_error_baseline(R_matrix_np, baseline_matrix, global_mean, user_bias, item_bias, non_zero_indices, 103271)\n",
    "end_time = time.time()\n",
    "\n",
    "duration = end_time - start_time  # 실행 시간 계산\n",
    "formatted_avg_error = \"{:.4f}\".format(avg_error)\n",
    "formatted_duration = \"{:.4f}\".format(duration)\n",
    "\n",
    "\n",
    "print(\"avg error = \", formatted_avg_error)\n",
    "print(f\"Function executed in {duration} seconds\\n\")"
   ]
  },
  {
   "cell_type": "code",
   "execution_count": 9,
   "id": "32506e94",
   "metadata": {},
   "outputs": [
    {
     "name": "stdout",
     "output_type": "stream",
     "text": [
      "avg error =  7.659766560626064\n"
     ]
    }
   ],
   "source": [
    "def calculate_svd_error_with_baseline(R_matrix_np, num_values=103271, k=100):\n",
    "    global_mean = np.mean(R_matrix_np[R_matrix_np != 0])\n",
    "    user_bias = np.mean(R_matrix_np - global_mean, axis=1)\n",
    "    item_bias = np.mean(R_matrix_np - global_mean, axis=0)\n",
    "\n",
    "    # 베이스라인 보정된 평점 행렬 생성\n",
    "    baseline_corrected = R_matrix_np - (user_bias[:, np.newaxis] + item_bias) + global_mean\n",
    "\n",
    "    # SVD 수행\n",
    "    u, s, vt = svds(csc_matrix(baseline_corrected), k=k)\n",
    "    reconstructed = np.dot(np.dot(u, np.diag(s)), vt)\n",
    "\n",
    "    # 오차 계산\n",
    "    error_sum = 0\n",
    "    non_zero_indices = np.argwhere(R_matrix_np != 0)\n",
    "\n",
    "    for i, j in non_zero_indices[:num_values]:\n",
    "        predicted_rating = reconstructed[i, j] + user_bias[i] + item_bias[j] - global_mean\n",
    "        error_sum += abs(R_matrix_np[i, j] - predicted_rating)\n",
    "\n",
    "    return error_sum\n",
    "\n",
    "# 함수 실행\n",
    "R_matrix_np = R_matrix.to_numpy()\n",
    "error = calculate_svd_error_with_baseline(R_matrix_np)\n",
    "print(\"avg error = \", error/103271)"
   ]
  },
  {
   "cell_type": "code",
   "execution_count": null,
   "id": "7b94bcb0",
   "metadata": {},
   "outputs": [],
   "source": []
  }
 ],
 "metadata": {
  "kernelspec": {
   "display_name": "Python 3 (ipykernel)",
   "language": "python",
   "name": "python3"
  },
  "language_info": {
   "codemirror_mode": {
    "name": "ipython",
    "version": 3
   },
   "file_extension": ".py",
   "mimetype": "text/x-python",
   "name": "python",
   "nbconvert_exporter": "python",
   "pygments_lexer": "ipython3",
   "version": "3.7.3"
  },
  "toc": {
   "base_numbering": 1,
   "nav_menu": {},
   "number_sections": true,
   "sideBar": true,
   "skip_h1_title": false,
   "title_cell": "Table of Contents",
   "title_sidebar": "Contents",
   "toc_cell": false,
   "toc_position": {},
   "toc_section_display": true,
   "toc_window_display": false
  },
  "varInspector": {
   "cols": {
    "lenName": 16,
    "lenType": 16,
    "lenVar": 40
   },
   "kernels_config": {
    "python": {
     "delete_cmd_postfix": "",
     "delete_cmd_prefix": "del ",
     "library": "var_list.py",
     "varRefreshCmd": "print(var_dic_list())"
    },
    "r": {
     "delete_cmd_postfix": ") ",
     "delete_cmd_prefix": "rm(",
     "library": "var_list.r",
     "varRefreshCmd": "cat(var_dic_list()) "
    }
   },
   "types_to_exclude": [
    "module",
    "function",
    "builtin_function_or_method",
    "instance",
    "_Feature"
   ],
   "window_display": false
  }
 },
 "nbformat": 4,
 "nbformat_minor": 5
}
